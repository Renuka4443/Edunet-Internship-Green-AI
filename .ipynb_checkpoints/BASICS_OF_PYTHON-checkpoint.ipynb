{
 "cells": [
  {
   "cell_type": "code",
   "execution_count": 1,
   "id": "7d0cf0ad-5f72-4ae0-9c5d-c67559e695cf",
   "metadata": {},
   "outputs": [
    {
     "name": "stdout",
     "output_type": "stream",
     "text": [
      "Hello World\n"
     ]
    }
   ],
   "source": [
    "print(\"Hello World\")"
   ]
  },
  {
   "cell_type": "code",
   "execution_count": 2,
   "id": "ad32d632-3476-49e4-b8bb-c630ebb7160d",
   "metadata": {},
   "outputs": [
    {
     "name": "stdout",
     "output_type": "stream",
     "text": [
      "4\n"
     ]
    }
   ],
   "source": [
    "print(4)"
   ]
  },
  {
   "cell_type": "code",
   "execution_count": 3,
   "id": "912c97a1-ec93-4cc3-bf75-2b92d7edc1f3",
   "metadata": {},
   "outputs": [],
   "source": [
    "#comments"
   ]
  },
  {
   "cell_type": "code",
   "execution_count": 4,
   "id": "3b3d0ee8-b902-40d1-9da1-b8a3370a6085",
   "metadata": {},
   "outputs": [
    {
     "data": {
      "text/plain": [
       "'SINGLE LINE COMMENT'"
      ]
     },
     "execution_count": 4,
     "metadata": {},
     "output_type": "execute_result"
    }
   ],
   "source": [
    "'''SINGLE LINE COMMENT'''"
   ]
  },
  {
   "cell_type": "code",
   "execution_count": 5,
   "id": "e5fd8e14-6ff0-490b-a0f4-2bb2905f5da0",
   "metadata": {},
   "outputs": [
    {
     "data": {
      "text/plain": [
       "'Multi\\nLine \\nComment'"
      ]
     },
     "execution_count": 5,
     "metadata": {},
     "output_type": "execute_result"
    }
   ],
   "source": [
    "\"\"\"Multi\n",
    "Line \n",
    "Comment\"\"\""
   ]
  },
  {
   "cell_type": "code",
   "execution_count": 8,
   "id": "e4e0b560-2b29-45f0-aaba-83b9722fda9f",
   "metadata": {},
   "outputs": [
    {
     "name": "stdout",
     "output_type": "stream",
     "text": [
      "b is greater than a\n",
      "Outside the conditonal block\n"
     ]
    }
   ],
   "source": [
    "a=10\n",
    "b=20\n",
    "if a>b:\n",
    "    print('a is greater than b')\n",
    "elif a<b:\n",
    "    print('b is greater than a')\n",
    "else:\n",
    "    print('a and b are equal')\n",
    "print('Outside the conditonal block')"
   ]
  },
  {
   "cell_type": "code",
   "execution_count": 9,
   "id": "5147a254-51bb-415b-b113-af9c3b450e8e",
   "metadata": {},
   "outputs": [
    {
     "name": "stdout",
     "output_type": "stream",
     "text": [
      "True\n"
     ]
    }
   ],
   "source": [
    "print(True)"
   ]
  },
  {
   "cell_type": "code",
   "execution_count": 11,
   "id": "dee486db-42be-4616-a054-7a9675c4ef0c",
   "metadata": {},
   "outputs": [
    {
     "name": "stdout",
     "output_type": "stream",
     "text": [
      "The carbon footprint of city nagpur is 400.75 Kg CO2\n"
     ]
    }
   ],
   "source": [
    "marks=40\n",
    "carbon_footprint=400.75\n",
    "city=\"nagpur\"\n",
    "print(f\"The carbon footprint of city {city} is {carbon_footprint} Kg CO2\")"
   ]
  },
  {
   "cell_type": "code",
   "execution_count": 19,
   "id": "34e5d64d-6a35-4e1c-8483-fa4b31e57bdc",
   "metadata": {},
   "outputs": [
    {
     "name": "stdin",
     "output_type": "stream",
     "text": [
      "Enter name of the city: Mumbai\n",
      "Enter the carbon footprint 450\n"
     ]
    },
    {
     "name": "stdout",
     "output_type": "stream",
     "text": [
      "The carbon footprint of city Mumbai is 450 Kg CO2\n",
      "<class 'str'>\n",
      "<class 'int'>\n"
     ]
    }
   ],
   "source": [
    "#Take input from user\n",
    "name=input(\"Enter name of the city:\")\n",
    "carbon_footprint=input(\"Enter the carbon footprint\")\n",
    "print(f\"The carbon footprint of city {name} is {carbon_footprint} Kg CO2\")\n",
    "print(type(carbon_footprint))\n",
    "int(carbon_footprint)\n",
    "print(type(int(carbon_footprint)))"
   ]
  },
  {
   "cell_type": "code",
   "execution_count": 20,
   "id": "4b390581-0886-4817-898e-aab675af8330",
   "metadata": {},
   "outputs": [
    {
     "name": "stdin",
     "output_type": "stream",
     "text": [
      " Renuka\n",
      " 45\n",
      " 45.7\n",
      " True\n"
     ]
    },
    {
     "name": "stdout",
     "output_type": "stream",
     "text": [
      "<class 'str'>\n",
      "<class 'int'>\n",
      "<class 'float'>\n",
      "<class 'bool'>\n"
     ]
    }
   ],
   "source": [
    "v1=input()\n",
    "v2=int(input())\n",
    "v3=float(input())\n",
    "v4=bool(input())\n",
    "print(type(v1))\n",
    "print(type(v2))\n",
    "print(type(v3))\n",
    "print(type(v4))"
   ]
  },
  {
   "cell_type": "code",
   "execution_count": 21,
   "id": "2b92f282-de84-496b-97b7-07a420b4ab70",
   "metadata": {},
   "outputs": [
    {
     "name": "stdout",
     "output_type": "stream",
     "text": [
      "Nagpur 400.85 37.26\n"
     ]
    }
   ],
   "source": [
    "city,cf,temperature='Nagpur',400.85,37.26\n",
    "print(city,cf,temperature)"
   ]
  },
  {
   "cell_type": "code",
   "execution_count": 25,
   "id": "e297b91b-299f-4848-bf6a-6ff8fe03b687",
   "metadata": {},
   "outputs": [
    {
     "name": "stdout",
     "output_type": "stream",
     "text": [
      "Nagpur MAH\n",
      "Nagpur Nagpur Nagpur Nagpur Nagpur Nagpur Nagpur Nagpur Nagpur Nagpur \n"
     ]
    }
   ],
   "source": [
    "city=\"Nagpur\"\n",
    "state=\"MAH\"\n",
    "print(city+' '+state)\n",
    "print((city+' ')*10)"
   ]
  },
  {
   "cell_type": "code",
   "execution_count": 31,
   "id": "004417ea-9371-4382-8c19-6e369a78bf77",
   "metadata": {},
   "outputs": [
    {
     "data": {
      "text/plain": [
       "['__add__',\n",
       " '__class__',\n",
       " '__contains__',\n",
       " '__delattr__',\n",
       " '__dir__',\n",
       " '__doc__',\n",
       " '__eq__',\n",
       " '__format__',\n",
       " '__ge__',\n",
       " '__getattribute__',\n",
       " '__getitem__',\n",
       " '__getnewargs__',\n",
       " '__getstate__',\n",
       " '__gt__',\n",
       " '__hash__',\n",
       " '__init__',\n",
       " '__init_subclass__',\n",
       " '__iter__',\n",
       " '__le__',\n",
       " '__len__',\n",
       " '__lt__',\n",
       " '__mod__',\n",
       " '__mul__',\n",
       " '__ne__',\n",
       " '__new__',\n",
       " '__reduce__',\n",
       " '__reduce_ex__',\n",
       " '__repr__',\n",
       " '__rmod__',\n",
       " '__rmul__',\n",
       " '__setattr__',\n",
       " '__sizeof__',\n",
       " '__str__',\n",
       " '__subclasshook__',\n",
       " 'capitalize',\n",
       " 'casefold',\n",
       " 'center',\n",
       " 'count',\n",
       " 'encode',\n",
       " 'endswith',\n",
       " 'expandtabs',\n",
       " 'find',\n",
       " 'format',\n",
       " 'format_map',\n",
       " 'index',\n",
       " 'isalnum',\n",
       " 'isalpha',\n",
       " 'isascii',\n",
       " 'isdecimal',\n",
       " 'isdigit',\n",
       " 'isidentifier',\n",
       " 'islower',\n",
       " 'isnumeric',\n",
       " 'isprintable',\n",
       " 'isspace',\n",
       " 'istitle',\n",
       " 'isupper',\n",
       " 'join',\n",
       " 'ljust',\n",
       " 'lower',\n",
       " 'lstrip',\n",
       " 'maketrans',\n",
       " 'partition',\n",
       " 'removeprefix',\n",
       " 'removesuffix',\n",
       " 'replace',\n",
       " 'rfind',\n",
       " 'rindex',\n",
       " 'rjust',\n",
       " 'rpartition',\n",
       " 'rsplit',\n",
       " 'rstrip',\n",
       " 'split',\n",
       " 'splitlines',\n",
       " 'startswith',\n",
       " 'strip',\n",
       " 'swapcase',\n",
       " 'title',\n",
       " 'translate',\n",
       " 'upper',\n",
       " 'zfill']"
      ]
     },
     "execution_count": 31,
     "metadata": {},
     "output_type": "execute_result"
    }
   ],
   "source": [
    "dir(str)"
   ]
  },
  {
   "cell_type": "code",
   "execution_count": 26,
   "id": "844ea193-8033-4bb8-9826-337c0f4aff0f",
   "metadata": {},
   "outputs": [
    {
     "data": {
      "text/plain": [
       "'NAGPUR'"
      ]
     },
     "execution_count": 26,
     "metadata": {},
     "output_type": "execute_result"
    }
   ],
   "source": [
    "city.upper()"
   ]
  },
  {
   "cell_type": "code",
   "execution_count": 27,
   "id": "ee922381-e068-4670-b7bf-20d4943be1bf",
   "metadata": {},
   "outputs": [
    {
     "data": {
      "text/plain": [
       "'nagpur'"
      ]
     },
     "execution_count": 27,
     "metadata": {},
     "output_type": "execute_result"
    }
   ],
   "source": [
    "city.lower()"
   ]
  },
  {
   "cell_type": "code",
   "execution_count": 28,
   "id": "b80ad0da-923b-4263-9b05-75a694774b38",
   "metadata": {},
   "outputs": [
    {
     "name": "stdout",
     "output_type": "stream",
     "text": [
      "<class 'list'>\n"
     ]
    }
   ],
   "source": [
    "cities=[\"Nagpur\",\"Mumbai\",\"Hyderabad\",\"Delhi\"]\n",
    "print(type(cities))\n"
   ]
  },
  {
   "cell_type": "code",
   "execution_count": 29,
   "id": "99be8bd3-5746-4ade-9e08-29ccfff4db2d",
   "metadata": {},
   "outputs": [
    {
     "data": {
      "text/plain": [
       "['__add__',\n",
       " '__class__',\n",
       " '__class_getitem__',\n",
       " '__contains__',\n",
       " '__delattr__',\n",
       " '__delitem__',\n",
       " '__dir__',\n",
       " '__doc__',\n",
       " '__eq__',\n",
       " '__format__',\n",
       " '__ge__',\n",
       " '__getattribute__',\n",
       " '__getitem__',\n",
       " '__getstate__',\n",
       " '__gt__',\n",
       " '__hash__',\n",
       " '__iadd__',\n",
       " '__imul__',\n",
       " '__init__',\n",
       " '__init_subclass__',\n",
       " '__iter__',\n",
       " '__le__',\n",
       " '__len__',\n",
       " '__lt__',\n",
       " '__mul__',\n",
       " '__ne__',\n",
       " '__new__',\n",
       " '__reduce__',\n",
       " '__reduce_ex__',\n",
       " '__repr__',\n",
       " '__reversed__',\n",
       " '__rmul__',\n",
       " '__setattr__',\n",
       " '__setitem__',\n",
       " '__sizeof__',\n",
       " '__str__',\n",
       " '__subclasshook__',\n",
       " 'append',\n",
       " 'clear',\n",
       " 'copy',\n",
       " 'count',\n",
       " 'extend',\n",
       " 'index',\n",
       " 'insert',\n",
       " 'pop',\n",
       " 'remove',\n",
       " 'reverse',\n",
       " 'sort']"
      ]
     },
     "execution_count": 29,
     "metadata": {},
     "output_type": "execute_result"
    }
   ],
   "source": [
    "dir(cities)"
   ]
  },
  {
   "cell_type": "code",
   "execution_count": 32,
   "id": "8e66a233-bf16-4d35-906b-96ca92b0d812",
   "metadata": {},
   "outputs": [
    {
     "name": "stdout",
     "output_type": "stream",
     "text": [
      "4\n"
     ]
    }
   ],
   "source": [
    "print(len(cities))"
   ]
  },
  {
   "cell_type": "code",
   "execution_count": 33,
   "id": "d7160eb5-9d3c-48eb-8270-fabaf5c334d7",
   "metadata": {},
   "outputs": [],
   "source": [
    "cities.append(\"Jaipur\")"
   ]
  },
  {
   "cell_type": "code",
   "execution_count": 34,
   "id": "403d066c-396c-47c6-b544-31a520c1120e",
   "metadata": {},
   "outputs": [
    {
     "data": {
      "text/plain": [
       "['Nagpur', 'Mumbai', 'Hyderabad', 'Delhi', 'Jaipur']"
      ]
     },
     "execution_count": 34,
     "metadata": {},
     "output_type": "execute_result"
    }
   ],
   "source": [
    "cities"
   ]
  },
  {
   "cell_type": "code",
   "execution_count": 36,
   "id": "79bb5a11-362f-402c-98c4-c60f21e3139c",
   "metadata": {},
   "outputs": [],
   "source": [
    "city2=[\"Pune\",\"Indore\",\"Banglore\"]"
   ]
  },
  {
   "cell_type": "code",
   "execution_count": 37,
   "id": "31fc2be5-0e8a-4cc9-ba3b-36974e6f0f55",
   "metadata": {},
   "outputs": [
    {
     "name": "stdout",
     "output_type": "stream",
     "text": [
      "['Nagpur', 'Mumbai', 'Hyderabad', 'Delhi', 'Jaipur', 'Pune', 'Indore', 'Banglore']\n"
     ]
    }
   ],
   "source": [
    "cities.extend(city2)\n",
    "print(cities)"
   ]
  },
  {
   "cell_type": "code",
   "execution_count": 38,
   "id": "1815f1c7-9db1-4189-802d-18ecd47459b6",
   "metadata": {},
   "outputs": [
    {
     "data": {
      "text/plain": [
       "['Pune', 'Indore', 'Banglore']"
      ]
     },
     "execution_count": 38,
     "metadata": {},
     "output_type": "execute_result"
    }
   ],
   "source": [
    "city2"
   ]
  },
  {
   "cell_type": "code",
   "execution_count": 39,
   "id": "37a23c3e-2cc8-467d-bd2e-5b245bea3e53",
   "metadata": {},
   "outputs": [
    {
     "data": {
      "text/plain": [
       "8"
      ]
     },
     "execution_count": 39,
     "metadata": {},
     "output_type": "execute_result"
    }
   ],
   "source": [
    "len(cities)"
   ]
  },
  {
   "cell_type": "code",
   "execution_count": 41,
   "id": "32045a5f-1115-41c5-b89e-a9240c268e74",
   "metadata": {},
   "outputs": [
    {
     "data": {
      "text/plain": [
       "'Nagpur'"
      ]
     },
     "execution_count": 41,
     "metadata": {},
     "output_type": "execute_result"
    }
   ],
   "source": [
    "cities[0]"
   ]
  },
  {
   "cell_type": "code",
   "execution_count": 42,
   "id": "14a0f62d-9f6f-4d8a-bc39-b99890057772",
   "metadata": {},
   "outputs": [
    {
     "data": {
      "text/plain": [
       "'Banglore'"
      ]
     },
     "execution_count": 42,
     "metadata": {},
     "output_type": "execute_result"
    }
   ],
   "source": [
    "cities[-1]"
   ]
  },
  {
   "cell_type": "code",
   "execution_count": 43,
   "id": "ac4b41a0-c862-4ae2-b0b2-4dd160cc33b7",
   "metadata": {},
   "outputs": [
    {
     "data": {
      "text/plain": [
       "'Hyderabad'"
      ]
     },
     "execution_count": 43,
     "metadata": {},
     "output_type": "execute_result"
    }
   ],
   "source": [
    "cities[2]"
   ]
  },
  {
   "cell_type": "code",
   "execution_count": 44,
   "id": "350ef88a-18e3-4448-b7ff-5fd2c26e1278",
   "metadata": {},
   "outputs": [
    {
     "ename": "IndexError",
     "evalue": "list index out of range",
     "output_type": "error",
     "traceback": [
      "\u001b[31m---------------------------------------------------------------------------\u001b[39m",
      "\u001b[31mIndexError\u001b[39m                                Traceback (most recent call last)",
      "\u001b[36mCell\u001b[39m\u001b[36m \u001b[39m\u001b[32mIn[44]\u001b[39m\u001b[32m, line 1\u001b[39m\n\u001b[32m----> \u001b[39m\u001b[32m1\u001b[39m \u001b[43mcities\u001b[49m\u001b[43m[\u001b[49m\u001b[32;43m10\u001b[39;49m\u001b[43m]\u001b[49m\n",
      "\u001b[31mIndexError\u001b[39m: list index out of range"
     ]
    }
   ],
   "source": [
    "cities[10]"
   ]
  },
  {
   "cell_type": "code",
   "execution_count": 45,
   "id": "c4d5e159-5b05-4301-90b0-6096bcd1839d",
   "metadata": {},
   "outputs": [
    {
     "data": {
      "text/plain": [
       "['Nagpur',\n",
       " 'Mumbai',\n",
       " 'Hyderabad',\n",
       " 'Delhi',\n",
       " 'Jaipur',\n",
       " 'Pune',\n",
       " 'Indore',\n",
       " 'Banglore']"
      ]
     },
     "execution_count": 45,
     "metadata": {},
     "output_type": "execute_result"
    }
   ],
   "source": [
    "cities[:]"
   ]
  },
  {
   "cell_type": "code",
   "execution_count": 46,
   "id": "84825410-8cae-461d-8969-bb643adebe98",
   "metadata": {},
   "outputs": [
    {
     "data": {
      "text/plain": [
       "['Nagpur', 'Mumbai', 'Hyderabad', 'Delhi', 'Jaipur']"
      ]
     },
     "execution_count": 46,
     "metadata": {},
     "output_type": "execute_result"
    }
   ],
   "source": [
    "cities[0:5:]"
   ]
  },
  {
   "cell_type": "code",
   "execution_count": 47,
   "id": "db563356-3d6d-4193-93e9-da59ea004849",
   "metadata": {},
   "outputs": [
    {
     "data": {
      "text/plain": [
       "['Mumbai', 'Delhi']"
      ]
     },
     "execution_count": 47,
     "metadata": {},
     "output_type": "execute_result"
    }
   ],
   "source": [
    "cities[1:5:2]"
   ]
  },
  {
   "cell_type": "code",
   "execution_count": 48,
   "id": "cc95b60e-71d3-42ed-a617-2eb20dd06440",
   "metadata": {},
   "outputs": [
    {
     "data": {
      "text/plain": [
       "['Banglore',\n",
       " 'Indore',\n",
       " 'Pune',\n",
       " 'Jaipur',\n",
       " 'Delhi',\n",
       " 'Hyderabad',\n",
       " 'Mumbai',\n",
       " 'Nagpur']"
      ]
     },
     "execution_count": 48,
     "metadata": {},
     "output_type": "execute_result"
    }
   ],
   "source": [
    "cities[::-1]"
   ]
  },
  {
   "cell_type": "code",
   "execution_count": 51,
   "id": "7f60ae4b-9b40-4b4b-8fa3-2b559dd38f6f",
   "metadata": {},
   "outputs": [
    {
     "name": "stdout",
     "output_type": "stream",
     "text": [
      "['GOA', 'Mumbai', 'Hyderabad', 'Delhi', 'Jaipur', 'Pune', 'Indore', 'Banglore']\n"
     ]
    }
   ],
   "source": [
    "cities[0]='GOA'\n",
    "print(cities)"
   ]
  },
  {
   "cell_type": "code",
   "execution_count": 49,
   "id": "928f63c8-22cd-46b9-8262-f68cfce5bc1d",
   "metadata": {},
   "outputs": [],
   "source": [
    "tup1=('Apple','Banana','Cherry','Dragonfruit')"
   ]
  },
  {
   "cell_type": "code",
   "execution_count": 50,
   "id": "014a64a0-b9de-4683-8e60-16ba3dff1e4a",
   "metadata": {},
   "outputs": [
    {
     "data": {
      "text/plain": [
       "['__add__',\n",
       " '__class__',\n",
       " '__class_getitem__',\n",
       " '__contains__',\n",
       " '__delattr__',\n",
       " '__dir__',\n",
       " '__doc__',\n",
       " '__eq__',\n",
       " '__format__',\n",
       " '__ge__',\n",
       " '__getattribute__',\n",
       " '__getitem__',\n",
       " '__getnewargs__',\n",
       " '__getstate__',\n",
       " '__gt__',\n",
       " '__hash__',\n",
       " '__init__',\n",
       " '__init_subclass__',\n",
       " '__iter__',\n",
       " '__le__',\n",
       " '__len__',\n",
       " '__lt__',\n",
       " '__mul__',\n",
       " '__ne__',\n",
       " '__new__',\n",
       " '__reduce__',\n",
       " '__reduce_ex__',\n",
       " '__repr__',\n",
       " '__rmul__',\n",
       " '__setattr__',\n",
       " '__sizeof__',\n",
       " '__str__',\n",
       " '__subclasshook__',\n",
       " 'count',\n",
       " 'index']"
      ]
     },
     "execution_count": 50,
     "metadata": {},
     "output_type": "execute_result"
    }
   ],
   "source": [
    "dir(tup1)"
   ]
  },
  {
   "cell_type": "code",
   "execution_count": 58,
   "id": "c7a66e85-0722-4ac9-be08-788df2d84c60",
   "metadata": {},
   "outputs": [
    {
     "name": "stdout",
     "output_type": "stream",
     "text": [
      "{'city': 'Nagpur', 'cf': 400.75, 'temp': 37.66}\n"
     ]
    }
   ],
   "source": [
    "my_dict={\"city\":\"Nagpur\",\n",
    "        \"cf\":400.75,\n",
    "        \"temp\":37.66\n",
    "        }\n",
    "print(my_dict)\n"
   ]
  },
  {
   "cell_type": "code",
   "execution_count": 59,
   "id": "fe4ba3d9-8d63-4e23-b6e8-acf7981cbd17",
   "metadata": {},
   "outputs": [
    {
     "data": {
      "text/plain": [
       "dict"
      ]
     },
     "execution_count": 59,
     "metadata": {},
     "output_type": "execute_result"
    }
   ],
   "source": [
    "type(my_dict)"
   ]
  },
  {
   "cell_type": "code",
   "execution_count": 60,
   "id": "99ca3458-c1e9-44b5-ae47-59692c439c4a",
   "metadata": {},
   "outputs": [
    {
     "name": "stdout",
     "output_type": "stream",
     "text": [
      "Nagpur\n"
     ]
    }
   ],
   "source": [
    "print(my_dict[\"city\"])"
   ]
  },
  {
   "cell_type": "code",
   "execution_count": 61,
   "id": "d8eaef97-29c7-48a0-a217-6325862f1186",
   "metadata": {},
   "outputs": [
    {
     "name": "stdout",
     "output_type": "stream",
     "text": [
      "1.0\n",
      "1\n"
     ]
    }
   ],
   "source": [
    "a=10\n",
    "print(a/10)\n",
    "print(a//10)"
   ]
  },
  {
   "cell_type": "code",
   "execution_count": 62,
   "id": "388848c9-0ef1-4120-ab09-5bc748eba036",
   "metadata": {},
   "outputs": [
    {
     "data": {
      "text/plain": [
       "False"
      ]
     },
     "execution_count": 62,
     "metadata": {},
     "output_type": "execute_result"
    }
   ],
   "source": [
    "\"Nagpur\" in cities"
   ]
  },
  {
   "cell_type": "code",
   "execution_count": 63,
   "id": "588fe694-3e83-468e-b3f1-33b9c23f9363",
   "metadata": {},
   "outputs": [
    {
     "data": {
      "text/plain": [
       "True"
      ]
     },
     "execution_count": 63,
     "metadata": {},
     "output_type": "execute_result"
    }
   ],
   "source": [
    "\"Nagpur\" not in cities"
   ]
  },
  {
   "cell_type": "code",
   "execution_count": 65,
   "id": "60118cd4-6650-4be3-97c0-454c2c1e695b",
   "metadata": {},
   "outputs": [
    {
     "name": "stdin",
     "output_type": "stream",
     "text": [
      "Enter the number 34\n"
     ]
    },
    {
     "name": "stdout",
     "output_type": "stream",
     "text": [
      "34\n"
     ]
    }
   ],
   "source": [
    "num=int(input(\"Enter the number\"))\n",
    "print(num)"
   ]
  },
  {
   "cell_type": "code",
   "execution_count": 66,
   "id": "bcbae1a1-61c3-4b54-b6fb-fa640f1e4837",
   "metadata": {},
   "outputs": [
    {
     "name": "stdin",
     "output_type": "stream",
     "text": [
      "Enter the number 34\n"
     ]
    },
    {
     "name": "stdout",
     "output_type": "stream",
     "text": [
      "34.0\n"
     ]
    }
   ],
   "source": [
    "num=float(input(\"Enter the number\"))\n",
    "print(num)"
   ]
  },
  {
   "cell_type": "code",
   "execution_count": 1,
   "id": "0968599a-4e1a-43ce-9d4c-cf7b8c35ea8f",
   "metadata": {},
   "outputs": [
    {
     "name": "stdout",
     "output_type": "stream",
     "text": [
      "10 is greater\n",
      "inside for loop\n",
      "outside for loop\n"
     ]
    }
   ],
   "source": [
    "if 10>0:\n",
    "    print(\"10 is greater\")\n",
    "    print(\"inside for loop\")\n",
    "print(\"outside for loop\")"
   ]
  },
  {
   "cell_type": "code",
   "execution_count": 2,
   "id": "4ca126b1-dbc2-4359-b384-7c8fb867c101",
   "metadata": {},
   "outputs": [
    {
     "name": "stdout",
     "output_type": "stream",
     "text": [
      "25 is greater\n"
     ]
    }
   ],
   "source": [
    "if 10>25:\n",
    "    print(\"10 i greater\")\n",
    "else:\n",
    "    print(\"25 is greater\")"
   ]
  },
  {
   "cell_type": "code",
   "execution_count": 4,
   "id": "35f5ad0e-8a15-4d72-908c-49de258e0151",
   "metadata": {},
   "outputs": [
    {
     "name": "stdin",
     "output_type": "stream",
     "text": [
      "Enter the number of hours worked: 10\n",
      "Enter the rate per hour: 20\n"
     ]
    },
    {
     "name": "stdout",
     "output_type": "stream",
     "text": [
      "The gross pay for 10 hours at the rate of 20.0 rate per hours is Rs.200.0\n"
     ]
    }
   ],
   "source": [
    "#write a program to take two inputs from user hours and rate per hours\n",
    "#Calculate gross pay\n",
    "hours=int(input(\"Enter the number of hours worked:\"))\n",
    "rph=float(input(\"Enter the rate per hour:\"))\n",
    "grosspay=hours*rph\n",
    "print(f\"The gross pay for {hours} hours at the rate of {rph} rate per hours is Rs.{grosspay}\")\n"
   ]
  },
  {
   "cell_type": "code",
   "execution_count": 13,
   "id": "1fffa06d-c20b-4973-8894-c190db726d3b",
   "metadata": {},
   "outputs": [
    {
     "name": "stdin",
     "output_type": "stream",
     "text": [
      "Enter the number of hours worked: 45\n",
      "Enter the rate per hour: 10\n"
     ]
    },
    {
     "name": "stdout",
     "output_type": "stream",
     "text": [
      "The gross pay for 45 hours at the rate of 10.0 rate per hours is Rs.475.0\n"
     ]
    }
   ],
   "source": [
    "#write a program to take two inputs from user hours and rate per hours\n",
    "#if employee has worked more than 40 hours then we have to pay him 1.5 times the rate for extra hours\n",
    "#is less or equal to 40 then we pay the regular amount\n",
    "#write a program to take two inputs from user hours and rate per hours\n",
    "#Calculate gross pay\n",
    "hours=int(input(\"Enter the number of hours worked:\"))\n",
    "rph=float(input(\"Enter the rate per hour:\"))\n",
    "if hours>40:\n",
    "  grosspay=((hours-40)*1.5*rph)+40*rph\n",
    "  print(f\"The gross pay for {hours} hours at the rate of {rph} rate per hours is Rs.{grosspay}\")\n",
    "else:\n",
    "  grosspay=hours*rph\n",
    "  print(f\"The gross pay for {hours} hours at the rate of {rph} rate per hours is Rs.{grosspay}\")"
   ]
  },
  {
   "cell_type": "code",
   "execution_count": 14,
   "id": "e23939de-36e2-4125-939a-0a804d03d34e",
   "metadata": {},
   "outputs": [
    {
     "name": "stdout",
     "output_type": "stream",
     "text": [
      "0\n",
      "1\n",
      "2\n",
      "3\n",
      "4\n"
     ]
    }
   ],
   "source": [
    "for i in range(5):\n",
    "    print(i)"
   ]
  },
  {
   "cell_type": "code",
   "execution_count": 15,
   "id": "be27a63d-6420-4139-b13c-02c0fb07eefc",
   "metadata": {},
   "outputs": [
    {
     "name": "stdout",
     "output_type": "stream",
     "text": [
      "H\n",
      "e\n",
      "l\n",
      "l\n",
      "o\n"
     ]
    }
   ],
   "source": [
    "for char in \"Hello\":\n",
    "    print(char)"
   ]
  },
  {
   "cell_type": "code",
   "execution_count": 16,
   "id": "f2037213-8492-43d2-9564-0ff4e89a9758",
   "metadata": {},
   "outputs": [
    {
     "name": "stdout",
     "output_type": "stream",
     "text": [
      "4\n",
      "7\n",
      "10\n",
      "13\n",
      "16\n",
      "19\n",
      "22\n"
     ]
    }
   ],
   "source": [
    "for i in range(4,25,3):\n",
    "    print(i)"
   ]
  },
  {
   "cell_type": "code",
   "execution_count": 21,
   "id": "cd8e8194-4e66-4fb2-9ec8-28a04eb16e8c",
   "metadata": {},
   "outputs": [
    {
     "name": "stdout",
     "output_type": "stream",
     "text": [
      "Sum:3000\n",
      "Average: 600.0\n"
     ]
    }
   ],
   "source": [
    "footprint=[400,500,600,700,800]\n",
    "sum=0\n",
    "count=0\n",
    "for val in footprint:\n",
    "    sum=sum+val\n",
    "    count=count+1\n",
    "print(f\"Sum:{sum}\")\n",
    "print(f\"Average: {sum/count}\")\n",
    "\n"
   ]
  },
  {
   "cell_type": "code",
   "execution_count": 22,
   "id": "2774259b-37a9-4154-9c9a-9ad951bcb056",
   "metadata": {},
   "outputs": [
    {
     "name": "stdout",
     "output_type": "stream",
     "text": [
      "0\n",
      "1\n",
      "2\n",
      "3\n",
      "4\n"
     ]
    }
   ],
   "source": [
    "count=0\n",
    "while count<5:\n",
    "    print(count)\n",
    "    count+=1"
   ]
  },
  {
   "cell_type": "code",
   "execution_count": 27,
   "id": "ef71edfe-8f5c-46bd-b2d8-c5e9511d5ac1",
   "metadata": {},
   "outputs": [
    {
     "name": "stdin",
     "output_type": "stream",
     "text": [
      "Enter input: Hello\n"
     ]
    },
    {
     "name": "stdout",
     "output_type": "stream",
     "text": [
      "Hello\n"
     ]
    },
    {
     "name": "stdin",
     "output_type": "stream",
     "text": [
      "Enter input: My\n"
     ]
    },
    {
     "name": "stdout",
     "output_type": "stream",
     "text": [
      "My\n"
     ]
    },
    {
     "name": "stdin",
     "output_type": "stream",
     "text": [
      "Enter input: Name\n"
     ]
    },
    {
     "name": "stdout",
     "output_type": "stream",
     "text": [
      "Name\n"
     ]
    },
    {
     "name": "stdin",
     "output_type": "stream",
     "text": [
      "Enter input: is\n"
     ]
    },
    {
     "name": "stdout",
     "output_type": "stream",
     "text": [
      "is\n"
     ]
    },
    {
     "name": "stdin",
     "output_type": "stream",
     "text": [
      "Enter input: Renuka\n"
     ]
    },
    {
     "name": "stdout",
     "output_type": "stream",
     "text": [
      "Renuka\n"
     ]
    },
    {
     "name": "stdin",
     "output_type": "stream",
     "text": [
      "Enter input: qUit\n"
     ]
    },
    {
     "name": "stdout",
     "output_type": "stream",
     "text": [
      "qUit\n"
     ]
    }
   ],
   "source": [
    "ans=''\n",
    "while(ans.lower()!='quit'):\n",
    "      ans=input(\"Enter input:\")\n",
    "      print(ans)"
   ]
  },
  {
   "cell_type": "code",
   "execution_count": 29,
   "id": "1142cde4-b717-4018-a880-f888e6f9ddce",
   "metadata": {},
   "outputs": [
    {
     "name": "stdout",
     "output_type": "stream",
     "text": [
      "Hello,good morning....!\n"
     ]
    }
   ],
   "source": [
    "def greet():\n",
    "    print(\"Hello,good morning....!\")\n",
    "greet()"
   ]
  },
  {
   "cell_type": "code",
   "execution_count": 30,
   "id": "2c8324b6-50ea-4785-829c-636fe3ea8546",
   "metadata": {},
   "outputs": [
    {
     "name": "stdin",
     "output_type": "stream",
     "text": [
      "Enter the number of hours worked: 45\n",
      "Enter the rate per hour: 10\n"
     ]
    },
    {
     "name": "stdout",
     "output_type": "stream",
     "text": [
      "The gross pay for 45 hours at the rate of 10.0 rate per hours is Rs.450.0\n"
     ]
    }
   ],
   "source": [
    "def pay_computation():\n",
    "    hours=int(input(\"Enter the number of hours worked:\"))\n",
    "    rph=float(input(\"Enter the rate per hour:\"))\n",
    "    grosspay=hours*rph\n",
    "    print(f\"The gross pay for {hours} hours at the rate of {rph} rate per hours is Rs.{grosspay}\")\n",
    "pay_computation()\n",
    "    "
   ]
  },
  {
   "cell_type": "code",
   "execution_count": 32,
   "id": "0b8aba93-d406-40a4-8e15-465cc03b5b27",
   "metadata": {},
   "outputs": [
    {
     "data": {
      "text/plain": [
       "30"
      ]
     },
     "execution_count": 32,
     "metadata": {},
     "output_type": "execute_result"
    }
   ],
   "source": [
    "def addtwo(num1,num2):\n",
    "    sum=num1+num2\n",
    "    return sum\n",
    "addtwo(10,20)"
   ]
  },
  {
   "cell_type": "code",
   "execution_count": 33,
   "id": "b9b1e346-5cb0-4b9a-af48-f4b836a26bae",
   "metadata": {},
   "outputs": [
    {
     "ename": "TypeError",
     "evalue": "addtwo() missing 1 required positional argument: 'num2'",
     "output_type": "error",
     "traceback": [
      "\u001b[31m---------------------------------------------------------------------------\u001b[39m",
      "\u001b[31mTypeError\u001b[39m                                 Traceback (most recent call last)",
      "\u001b[36mCell\u001b[39m\u001b[36m \u001b[39m\u001b[32mIn[33]\u001b[39m\u001b[32m, line 2\u001b[39m\n\u001b[32m      1\u001b[39m \u001b[38;5;66;03m#positional arguments\u001b[39;00m\n\u001b[32m----> \u001b[39m\u001b[32m2\u001b[39m \u001b[43maddtwo\u001b[49m\u001b[43m(\u001b[49m\u001b[32;43m10\u001b[39;49m\u001b[43m)\u001b[49m\n\u001b[32m      3\u001b[39m \u001b[38;5;66;03m#keyword arguements\u001b[39;00m\n",
      "\u001b[31mTypeError\u001b[39m: addtwo() missing 1 required positional argument: 'num2'"
     ]
    }
   ],
   "source": [
    "#positional arguments\n",
    "addtwo(10)"
   ]
  },
  {
   "cell_type": "code",
   "execution_count": 34,
   "id": "729d93ce-debb-4cbd-aad2-859fe00787c4",
   "metadata": {},
   "outputs": [
    {
     "data": {
      "text/plain": [
       "110"
      ]
     },
     "execution_count": 34,
     "metadata": {},
     "output_type": "execute_result"
    }
   ],
   "source": [
    "#keyword arguements\n",
    "addtwo(num2=40,num1=70)"
   ]
  },
  {
   "cell_type": "code",
   "execution_count": 42,
   "id": "8003d9e1-abd9-417c-a183-2581a6ab45b3",
   "metadata": {},
   "outputs": [
    {
     "data": {
      "text/plain": [
       "120"
      ]
     },
     "execution_count": 42,
     "metadata": {},
     "output_type": "execute_result"
    }
   ],
   "source": [
    "#default arguments\n",
    "def addthree(a,b,c=50):\n",
    "    sum=a+b+c\n",
    "    return sum\n",
    "addthree(10,60)"
   ]
  },
  {
   "cell_type": "code",
   "execution_count": 43,
   "id": "7c4ec191-1523-4d63-9fb7-594c98d6cd5f",
   "metadata": {},
   "outputs": [
    {
     "name": "stdout",
     "output_type": "stream",
     "text": [
      "Hello Renuka\n",
      "Hello Poornima\n",
      "Hello Mansee\n",
      "Hello Jay\n"
     ]
    }
   ],
   "source": [
    "#variable length arguements\n",
    "def greet(*names):\n",
    "    for name in names:\n",
    "        print(f\"Hello {name}\")\n",
    "greet(\"Renuka\",\"Poornima\",\"Mansee\",\"Jay\")"
   ]
  },
  {
   "cell_type": "code",
   "execution_count": 44,
   "id": "3a5d6ca2-64ad-4d3d-a6aa-5db1fc8076bc",
   "metadata": {},
   "outputs": [
    {
     "name": "stdout",
     "output_type": "stream",
     "text": [
      "150\n"
     ]
    }
   ],
   "source": [
    "def sumn(*nums):\n",
    "    sum=0\n",
    "    for num in nums:\n",
    "        sum=sum+num\n",
    "    print(sum)\n",
    "sumn(10,20,30,40,50)"
   ]
  },
  {
   "cell_type": "code",
   "execution_count": 45,
   "id": "4ea5726a-355e-4115-a30a-f31cc2dd2028",
   "metadata": {},
   "outputs": [
    {
     "name": "stdin",
     "output_type": "stream",
     "text": [
      "Enter your name: Renuka\n",
      "Enter your name: Mansee\n",
      "Enter your name: Poornima\n"
     ]
    },
    {
     "name": "stdout",
     "output_type": "stream",
     "text": [
      "Hello Renuka\n",
      "Hello Mansee\n",
      "Hello Poornima\n"
     ]
    }
   ],
   "source": [
    "user1=input(\"Enter your name:\")\n",
    "user2=input(\"Enter your name:\")\n",
    "user3=input(\"Enter your name:\")\n",
    "greet(user1,user2,user3)"
   ]
  },
  {
   "cell_type": "code",
   "execution_count": 49,
   "id": "e5d3319c-8c51-46a3-9cf3-751e8f772dab",
   "metadata": {},
   "outputs": [
    {
     "name": "stdout",
     "output_type": "stream",
     "text": [
      "30\n"
     ]
    }
   ],
   "source": [
    "x=10\n",
    "y=20\n",
    "sum=lambda x,y:x+y\n",
    "print(sum(x,y))"
   ]
  },
  {
   "cell_type": "code",
   "execution_count": null,
   "id": "489abee5-3b25-4f87-92dc-a2762954058f",
   "metadata": {},
   "outputs": [],
   "source": []
  }
 ],
 "metadata": {
  "kernelspec": {
   "display_name": "Python 3 (ipykernel)",
   "language": "python",
   "name": "python3"
  },
  "language_info": {
   "codemirror_mode": {
    "name": "ipython",
    "version": 3
   },
   "file_extension": ".py",
   "mimetype": "text/x-python",
   "name": "python",
   "nbconvert_exporter": "python",
   "pygments_lexer": "ipython3",
   "version": "3.13.2"
  }
 },
 "nbformat": 4,
 "nbformat_minor": 5
}
