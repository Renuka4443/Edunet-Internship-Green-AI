{
 "cells": [
  {
   "cell_type": "code",
   "execution_count": 9,
   "id": "e5150a5f-d458-44a8-831a-464941a9bc57",
   "metadata": {},
   "outputs": [
    {
     "name": "stdout",
     "output_type": "stream",
     "text": [
      "Emissions 7.35 kg CO2\n",
      "Emissions 18.9 kg CO2\n",
      "Alternative: Great choice public tansports are always better....!\n"
     ]
    }
   ],
   "source": [
    "class Carbon_tracker:\n",
    "    def __init__(self,transport_mode,distance):\n",
    "        self.transport_mode=transport_mode\n",
    "        self.distance=distance\n",
    "\n",
    "    def calculate_emission(self):\n",
    "        emission_factor={\"car\":0.21,\"bus\":0.18,\"cycle\":0.0,\"walk\":0.0}\n",
    "        return self.distance*emission_factor.get(self.transport_mode,0.15)\n",
    "\n",
    "    def alternative(self):\n",
    "        if self.transport_mode==\"Car\":\n",
    "            return \"Emission produced by car is more so bus is the best alternative\"\n",
    "        elif self.transport_mode==\"bus\":\n",
    "            return \"Great choice public tansports are always better....!\"\n",
    "        return \"Cycling and walking has 0 emission rate\"\n",
    "\n",
    "tracker=Carbon_tracker(\"car\",35)\n",
    "tracker1=Carbon_tracker(\"bus\",105)\n",
    "print(f\"Emissions {tracker.calculate_emission()} kg CO2\")\n",
    "print(f\"Emissions {tracker1.calculate_emission()} kg CO2\")\n",
    "print(f\"Alternative: {tracker1.alternative()}\")"
   ]
  },
  {
   "cell_type": "raw",
   "id": "40a0ec4e-effb-4760-9c94-75355e84aedc",
   "metadata": {},
   "source": [
    "#create a class named energysystem with three attributes energy_consumption,building_name,emission_factor"
   ]
  },
  {
   "cell_type": "code",
   "execution_count": 17,
   "id": "4ac7a790-9d80-4716-a0d6-8103b2a213ea",
   "metadata": {},
   "outputs": [
    {
     "name": "stdout",
     "output_type": "stream",
     "text": [
      "Building A\n",
      "0.28\n",
      "15\n",
      "Carbon footprint for building with emission factor: 0.28 and energy_consumption:15 is 4.2 kg CO2\n"
     ]
    }
   ],
   "source": [
    "class Energy_system:\n",
    "    def __init__(self,building_name,emission_factor,energy_consumption):\n",
    "        self.building_name=building_name\n",
    "        self.emission_factor=emission_factor \n",
    "        self.energy_consumption=energy_consumption\n",
    "\n",
    "class Solar_system(Energy_system):\n",
    "     def __init__(self,building_name,emission_factor,energy_consumption):\n",
    "        self.building_name=building_name\n",
    "        \n",
    "       \n",
    "     \n",
    "\n",
    "    def calculate(self):\n",
    "        carbon_footprint=self.emission_factor*self.energy_consumption\n",
    "        print(f\"Carbon footprint for building with emission factor: {self.emission_factor} and energy_consumption:{self.energy_consumption} is {carbon_footprint} kg CO2\")\n",
    "\n",
    "A=Energy_system(\"Building A\",0.28,15)\n",
    "print(A.building_name)\n",
    "print(A.emission_factor)\n",
    "print(A.energy_consumption)\n",
    "A.calculate()"
   ]
  },
  {
   "cell_type": "code",
   "execution_count": null,
   "id": "f2d591ff-878b-4527-92db-5a890586136d",
   "metadata": {},
   "outputs": [],
   "source": []
  },
  {
   "cell_type": "code",
   "execution_count": null,
   "id": "6bfd1b9b-9365-4cff-bb8b-4974ec981244",
   "metadata": {},
   "outputs": [],
   "source": []
  }
 ],
 "metadata": {
  "kernelspec": {
   "display_name": "Python 3 (ipykernel)",
   "language": "python",
   "name": "python3"
  },
  "language_info": {
   "codemirror_mode": {
    "name": "ipython",
    "version": 3
   },
   "file_extension": ".py",
   "mimetype": "text/x-python",
   "name": "python",
   "nbconvert_exporter": "python",
   "pygments_lexer": "ipython3",
   "version": "3.13.2"
  }
 },
 "nbformat": 4,
 "nbformat_minor": 5
}
