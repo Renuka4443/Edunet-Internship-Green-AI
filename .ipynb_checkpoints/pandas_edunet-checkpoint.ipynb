{
 "cells": [
  {
   "cell_type": "markdown",
   "id": "e9d951bc-13a8-44e4-a789-1215260b3214",
   "metadata": {},
   "source": [
    "## **PANDAS**"
   ]
  },
  {
   "cell_type": "code",
   "execution_count": 10,
   "id": "68014254-dc33-4347-826f-75f024d6e0e4",
   "metadata": {},
   "outputs": [
    {
     "name": "stdout",
     "output_type": "stream",
     "text": [
      "0    1\n",
      "1    2\n",
      "2    3\n",
      "3    4\n",
      "4    5\n",
      "5    6\n",
      "dtype: int64\n",
      "\n",
      "\n",
      "PRINT THE SERIES\n",
      "\n",
      "a    1\n",
      "b    2\n",
      "c    3\n",
      "d    4\n",
      "e    5\n",
      "f    6\n",
      "dtype: int64\n"
     ]
    }
   ],
   "source": [
    "import pandas as pd\n",
    "\n",
    "#creating a pandas series from a list\n",
    "data = [1,2,3,4,5,6]\n",
    "series_list = pd.Series(data)\n",
    "print(series_list)\n",
    "\n",
    "#creating a pandas series with a specified index\n",
    "i = ['a','b','c','d','e','f']\n",
    "series_with_index = pd.Series(data,index=i)\n",
    "print(\"\\n\\nPRINT THE SERIES\\n\")\n",
    "print(series_with_index)"
   ]
  },
  {
   "cell_type": "code",
   "execution_count": 12,
   "id": "226920b2-eb80-42c6-85fd-4b12fcb876fb",
   "metadata": {},
   "outputs": [],
   "source": [
    "#create a pandas seres from a dictionary"
   ]
  },
  {
   "cell_type": "code",
   "execution_count": 14,
   "id": "9122d7d0-b0e2-4361-9ccd-f0a8746c5dad",
   "metadata": {},
   "outputs": [
    {
     "name": "stdout",
     "output_type": "stream",
     "text": [
      "one      1\n",
      "Two      2\n",
      "Three    3\n",
      "dtype: int64\n"
     ]
    }
   ],
   "source": [
    "my_dict= {\"one\":1,\"Two\":2,\"Three\":3}\n",
    "series_from_dict = pd.Series(my_dict)\n",
    "print(series_from_dict)"
   ]
  },
  {
   "cell_type": "code",
   "execution_count": 18,
   "id": "ca4538cb-52ef-46f9-bcc3-9ddf1e103d44",
   "metadata": {},
   "outputs": [
    {
     "name": "stdout",
     "output_type": "stream",
     "text": [
      "3\n"
     ]
    },
    {
     "name": "stderr",
     "output_type": "stream",
     "text": [
      "C:\\Users\\anuja\\AppData\\Local\\Temp\\ipykernel_1800\\1523706587.py:3: FutureWarning: Series.__getitem__ treating keys as positions is deprecated. In a future version, integer keys will always be treated as labels (consistent with DataFrame behavior). To access a value by position, use `ser.iloc[pos]`\n",
      "  print(series_with_index[2])\n"
     ]
    }
   ],
   "source": [
    "#Accessing data in a series\n",
    "#Accessing element at index 1\n",
    "print(series_with_index[2])"
   ]
  },
  {
   "cell_type": "code",
   "execution_count": 34,
   "id": "611126bf-85aa-46e0-9f48-3677d39ea810",
   "metadata": {},
   "outputs": [
    {
     "name": "stdout",
     "output_type": "stream",
     "text": [
      "0      1\n",
      "1      2\n",
      "2      3\n",
      "3      4\n",
      "4      5\n",
      "5      6\n",
      "6      7\n",
      "7      8\n",
      "8      9\n",
      "9     10\n",
      "10    11\n",
      "11    12\n",
      "12    13\n",
      "13    14\n",
      "14    15\n",
      "dtype: int64\n"
     ]
    }
   ],
   "source": [
    "\n",
    "data = [1,2,3,4,5,6,7,8,9,10,11,12,13,14,15]\n",
    "ser = pd.Series(data)\n",
    "print(ser)\n"
   ]
  },
  {
   "cell_type": "code",
   "execution_count": 44,
   "id": "1437edd2-9e1a-421b-a2a5-dde29968c016",
   "metadata": {},
   "outputs": [
    {
     "name": "stdout",
     "output_type": "stream",
     "text": [
      "0      1\n",
      "1      2\n",
      "2      3\n",
      "3      4\n",
      "4      5\n",
      "5      6\n",
      "6      7\n",
      "7      8\n",
      "8      9\n",
      "9     10\n",
      "10    11\n",
      "11    12\n",
      "12    13\n",
      "13    14\n",
      "14    15\n",
      "dtype: int64\n",
      "\n",
      "\n",
      "0    1\n",
      "1    2\n",
      "2    3\n",
      "dtype: int64\n",
      "\n",
      "\n",
      "12    13\n",
      "13    14\n",
      "14    15\n",
      "dtype: int64\n",
      "\n",
      "\n",
      "(15,)\n",
      "\n",
      "\n",
      "count    15.000000\n",
      "mean      8.000000\n",
      "std       4.472136\n",
      "min       1.000000\n",
      "25%       4.500000\n",
      "50%       8.000000\n",
      "75%      11.500000\n",
      "max      15.000000\n",
      "dtype: float64\n",
      "\n",
      "\n",
      "[ 1  2  3  4  5  6  7  8  9 10 11 12 13 14 15]\n"
     ]
    }
   ],
   "source": [
    "#create a series\n",
    "data=[1,2,3,4,5,6,7,8,9,10,11,12,13,14,15]\n",
    "series=pd.Series(data)\n",
    "print(series)\n",
    "print(\"\\n\")\n",
    "\n",
    "#return the first n rows\n",
    "first_n_rows=series.head(3)\n",
    "print(first_n_rows)\n",
    "print(\"\\n\")\n",
    "\n",
    "#return the last n rows\n",
    "last_n_rows=series.tail(3)\n",
    "print(last_n_rows)\n",
    "print(\"\\n\")\n",
    "\n",
    "#return dimesions(rows,colums)\n",
    "dimensions=series.shape\n",
    "print(dimensions)\n",
    "print(\"\\n\")\n",
    "\n",
    "#generate descriptive statistics\n",
    "stats=series.describe()\n",
    "print(stats)\n",
    "print(\"\\n\")\n",
    "\n",
    "#return unique values\n",
    "unique_values=series.unique()\n",
    "print(unique_values)"
   ]
  },
  {
   "cell_type": "code",
   "execution_count": 52,
   "id": "4a136b47-f321-47a7-9425-f2b90400c084",
   "metadata": {},
   "outputs": [
    {
     "name": "stdout",
     "output_type": "stream",
     "text": [
      "0     1\n",
      "1     2\n",
      "2     3\n",
      "3     4\n",
      "4     5\n",
      "5     6\n",
      "6     7\n",
      "7     8\n",
      "8     9\n",
      "9    10\n",
      "dtype: int64\n",
      "\n",
      "\n",
      "0     1\n",
      "1     2\n",
      "2     3\n",
      "3     4\n",
      "4     5\n",
      "5     6\n",
      "6     7\n",
      "7     8\n",
      "8     9\n",
      "9    10\n",
      "dtype: int64\n",
      "\n",
      "\n"
     ]
    }
   ],
   "source": [
    "#create a series\n",
    "data1=[1,2,3,4,5,6,7,8,9,10]\n",
    "d1=pd.Series(data1)\n",
    "print(d1)\n",
    "print(\"\\n\")\n",
    "\n",
    "data2=[1,2,3,4,5,6,7,8,9,10]\n",
    "d2=pd.Series(data2)\n",
    "print(d2)\n",
    "print(\"\\n\")"
   ]
  },
  {
   "cell_type": "code",
   "execution_count": 66,
   "id": "106fe93b-0ac4-47ba-b6e8-59404719e17d",
   "metadata": {},
   "outputs": [
    {
     "name": "stdout",
     "output_type": "stream",
     "text": [
      "0     2\n",
      "1     4\n",
      "2     6\n",
      "3     8\n",
      "4    10\n",
      "5    12\n",
      "6    14\n",
      "7    16\n",
      "8    18\n",
      "9    20\n",
      "dtype: int64\n",
      "\n",
      "\n",
      "0      4\n",
      "1     16\n",
      "2     36\n",
      "3     64\n",
      "4    100\n",
      "5    144\n",
      "6    196\n",
      "7    256\n",
      "8    324\n",
      "9    400\n",
      "dtype: int64\n",
      "\n",
      "\n",
      "9    400\n",
      "8    324\n",
      "7    256\n",
      "6    196\n",
      "5    144\n",
      "4    100\n",
      "3     64\n",
      "2     36\n",
      "1     16\n",
      "0      4\n",
      "dtype: int64\n",
      "\n",
      "\n"
     ]
    }
   ],
   "source": [
    "#element wise addition\n",
    "add_series = d1 + d2\n",
    "print(add_series)\n",
    "print(\"\\n\")\n",
    "\n",
    "#apply a function to each element\n",
    "squared = add_series.apply(lambda x: x **2)\n",
    "print(squared)\n",
    "print(\"\\n\")\n",
    "\n",
    "#sorting\n",
    "sort = squared.sort_values(ascending = False)\n",
    "print(sort)\n",
    "print(\"\\n\")\n",
    "\n"
   ]
  },
  {
   "cell_type": "code",
   "execution_count": 70,
   "id": "0cca4ae2-879c-43d6-ae3d-d7658c5d27ba",
   "metadata": {},
   "outputs": [
    {
     "name": "stdout",
     "output_type": "stream",
     "text": [
      "0    False\n",
      "1    False\n",
      "2    False\n",
      "3    False\n",
      "4    False\n",
      "5    False\n",
      "6    False\n",
      "7    False\n",
      "8    False\n",
      "9    False\n",
      "dtype: bool\n"
     ]
    }
   ],
   "source": [
    "print(add_series.isnull())"
   ]
  },
  {
   "cell_type": "code",
   "execution_count": null,
   "id": "f0a642c9-53f7-4903-9ff3-c1367292f4cb",
   "metadata": {},
   "outputs": [],
   "source": []
  }
 ],
 "metadata": {
  "kernelspec": {
   "display_name": "Python [conda env:base] *",
   "language": "python",
   "name": "conda-base-py"
  },
  "language_info": {
   "codemirror_mode": {
    "name": "ipython",
    "version": 3
   },
   "file_extension": ".py",
   "mimetype": "text/x-python",
   "name": "python",
   "nbconvert_exporter": "python",
   "pygments_lexer": "ipython3",
   "version": "3.12.7"
  }
 },
 "nbformat": 4,
 "nbformat_minor": 5
}
