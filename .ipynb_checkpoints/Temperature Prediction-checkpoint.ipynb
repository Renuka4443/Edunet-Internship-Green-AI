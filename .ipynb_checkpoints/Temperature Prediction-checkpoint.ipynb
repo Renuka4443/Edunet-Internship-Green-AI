{
 "cells": [
  {
   "cell_type": "code",
   "execution_count": 4,
   "id": "48bc54ee-77fd-4041-9251-90dc16c82451",
   "metadata": {},
   "outputs": [],
   "source": [
    "import pandas as pd\n",
    "import numpy as np\n",
    "from tensorflow.keras.models import Sequential\n",
    "from tensorflow.keras.layers import SimpleRNN,Dense"
   ]
  },
  {
   "cell_type": "code",
   "execution_count": 5,
   "id": "7daa6b53-7540-4fff-846c-dad0e3afd4b7",
   "metadata": {},
   "outputs": [
    {
     "data": {
      "text/plain": [
       "array([170, 191, 107, 137, 156, 150, 165, 112, 171, 119, 131, 174, 155,\n",
       "       183, 159, 191, 173, 196, 149, 153, 173, 108, 152, 130, 179, 114,\n",
       "       192, 158, 174, 122, 103, 191, 199, 171, 155, 183, 128, 113, 137,\n",
       "       182, 150, 179, 167, 130, 160, 144, 146, 187, 143, 135, 198, 131,\n",
       "       182, 105, 180, 165, 107, 192, 141, 199, 195, 188, 193, 125, 183,\n",
       "       158, 198, 170, 157, 157, 183, 185, 136, 163, 174, 188, 100, 101,\n",
       "       133, 152, 172, 157, 134, 114, 178, 171, 156, 177, 186, 184, 182,\n",
       "       191, 112, 190, 173, 127, 100, 121, 194, 132, 151, 150, 120, 141,\n",
       "       178, 155, 147, 143, 191, 176, 129, 145, 107, 110, 161, 119, 168,\n",
       "       125, 161, 198, 116, 188, 161, 151, 188, 141, 158, 121, 131, 195,\n",
       "       143, 168, 116, 103, 115, 179, 104, 106, 194, 166, 185, 151, 190,\n",
       "       183, 102, 109, 106, 139, 125, 156, 117, 113, 107, 150, 196, 148,\n",
       "       153, 100, 138, 160, 148, 167, 197, 161, 145, 161, 110, 177, 157,\n",
       "       152, 140, 101, 152, 158, 188, 122, 148, 124, 158, 193, 174, 189,\n",
       "       196, 143, 164, 171, 106, 143, 136, 177, 196, 102, 164, 175, 179,\n",
       "       194, 110, 115, 197, 120], dtype=int32)"
      ]
     },
     "execution_count": 5,
     "metadata": {},
     "output_type": "execute_result"
    }
   ],
   "source": [
    "np.random.seed(40)\n",
    "data=np.random.randint(100,200,size=200)\n",
    "data"
   ]
  },
  {
   "cell_type": "code",
   "execution_count": 6,
   "id": "e74821d1-d8af-4628-b081-13b38710c63d",
   "metadata": {},
   "outputs": [],
   "source": [
    "#Prepare input sequence (x=past days)\n",
    "#Labels y= nextday\n",
    "def create_sequences(data, sequence_length = 7):\n",
    "  X, y = [], []\n",
    "  for i in range(len(data) - sequence_length):\n",
    "    X.append(data[i:i+sequence_length])\n",
    "    y.append(data[i+sequence_length])\n",
    "  return np.array(X), np.array(y)"
   ]
  },
  {
   "cell_type": "code",
   "execution_count": 8,
   "id": "8a5d654a-feab-4a2d-b23d-19cf933d95f2",
   "metadata": {},
   "outputs": [],
   "source": [
    "X,y=create_sequences(data)"
   ]
  },
  {
   "cell_type": "code",
   "execution_count": 9,
   "id": "cabfd654-d953-4d26-a0cc-6f1c3723d4db",
   "metadata": {},
   "outputs": [
    {
     "data": {
      "text/plain": [
       "(193, 7)"
      ]
     },
     "execution_count": 9,
     "metadata": {},
     "output_type": "execute_result"
    }
   ],
   "source": [
    "X.shape"
   ]
  },
  {
   "cell_type": "code",
   "execution_count": 10,
   "id": "cf2f2498-8837-4a9e-88a9-0eb98d1d49cd",
   "metadata": {},
   "outputs": [
    {
     "data": {
      "text/plain": [
       "(193,)"
      ]
     },
     "execution_count": 10,
     "metadata": {},
     "output_type": "execute_result"
    }
   ],
   "source": [
    "y.shape"
   ]
  },
  {
   "cell_type": "code",
   "execution_count": 11,
   "id": "a04758a6-c1ec-459d-9a9f-9694a909d3aa",
   "metadata": {},
   "outputs": [
    {
     "data": {
      "text/plain": [
       "array([191, 107, 137, 156, 150, 165, 112], dtype=int32)"
      ]
     },
     "execution_count": 11,
     "metadata": {},
     "output_type": "execute_result"
    }
   ],
   "source": [
    "X[1]"
   ]
  },
  {
   "cell_type": "code",
   "execution_count": 13,
   "id": "96bd9c1c-1f57-4953-8855-10900b464769",
   "metadata": {},
   "outputs": [],
   "source": [
    "X=X.reshape(X.shape[0],X.shape[1],1)"
   ]
  },
  {
   "cell_type": "code",
   "execution_count": 14,
   "id": "f43929c5-dd77-45a2-9e77-8b7c3b2bad24",
   "metadata": {},
   "outputs": [
    {
     "data": {
      "text/plain": [
       "(193, 7, 1)"
      ]
     },
     "execution_count": 14,
     "metadata": {},
     "output_type": "execute_result"
    }
   ],
   "source": [
    "X.shape"
   ]
  },
  {
   "cell_type": "code",
   "execution_count": 16,
   "id": "bdfada61-cbcd-498f-b357-e2081b651d0a",
   "metadata": {},
   "outputs": [],
   "source": [
    "from sklearn.model_selection import train_test_split\n",
    "X_train,X_test,y_train,y_test=train_test_split(X,y,test_size=0.2,random_state=42)"
   ]
  },
  {
   "cell_type": "code",
   "execution_count": 22,
   "id": "87aac91c-7a20-41e4-8a38-063a03e1ec37",
   "metadata": {},
   "outputs": [
    {
     "name": "stderr",
     "output_type": "stream",
     "text": [
      "C:\\Users\\RENUKA\\AppData\\Local\\Programs\\Python\\Python311\\Lib\\site-packages\\keras\\src\\layers\\rnn\\rnn.py:199: UserWarning: Do not pass an `input_shape`/`input_dim` argument to a layer. When using Sequential models, prefer using an `Input(shape)` object as the first layer in the model instead.\n",
      "  super().__init__(**kwargs)\n"
     ]
    }
   ],
   "source": [
    "#Build the model\n",
    "rnnmodel=Sequential([SimpleRNN(16,activation=\"relu\",input_shape=(7,1)),Dense(1)])"
   ]
  },
  {
   "cell_type": "code",
   "execution_count": 23,
   "id": "2c43736f-b96f-48b1-942b-2ca868284463",
   "metadata": {},
   "outputs": [],
   "source": [
    "rnnmodel.compile(optimizer=\"adam\",loss='mse')"
   ]
  },
  {
   "cell_type": "code",
   "execution_count": 25,
   "id": "bc1a4391-da30-432a-b064-655ea95ca2c8",
   "metadata": {},
   "outputs": [
    {
     "name": "stdout",
     "output_type": "stream",
     "text": [
      "Epoch 1/30\n",
      "\u001b[1m5/5\u001b[0m \u001b[32m━━━━━━━━━━━━━━━━━━━━\u001b[0m\u001b[37m\u001b[0m \u001b[1m1s\u001b[0m 10ms/step - loss: 1617.8975\n",
      "Epoch 2/30\n",
      "\u001b[1m5/5\u001b[0m \u001b[32m━━━━━━━━━━━━━━━━━━━━\u001b[0m\u001b[37m\u001b[0m \u001b[1m0s\u001b[0m 8ms/step - loss: 1304.3849 \n",
      "Epoch 3/30\n",
      "\u001b[1m5/5\u001b[0m \u001b[32m━━━━━━━━━━━━━━━━━━━━\u001b[0m\u001b[37m\u001b[0m \u001b[1m0s\u001b[0m 7ms/step - loss: 1139.4257\n",
      "Epoch 4/30\n",
      "\u001b[1m5/5\u001b[0m \u001b[32m━━━━━━━━━━━━━━━━━━━━\u001b[0m\u001b[37m\u001b[0m \u001b[1m0s\u001b[0m 8ms/step - loss: 1235.7241 \n",
      "Epoch 5/30\n",
      "\u001b[1m5/5\u001b[0m \u001b[32m━━━━━━━━━━━━━━━━━━━━\u001b[0m\u001b[37m\u001b[0m \u001b[1m0s\u001b[0m 8ms/step - loss: 1124.6896 \n",
      "Epoch 6/30\n",
      "\u001b[1m5/5\u001b[0m \u001b[32m━━━━━━━━━━━━━━━━━━━━\u001b[0m\u001b[37m\u001b[0m \u001b[1m0s\u001b[0m 9ms/step - loss: 1137.0929 \n",
      "Epoch 7/30\n",
      "\u001b[1m5/5\u001b[0m \u001b[32m━━━━━━━━━━━━━━━━━━━━\u001b[0m\u001b[37m\u001b[0m \u001b[1m0s\u001b[0m 8ms/step - loss: 1163.5977  \n",
      "Epoch 8/30\n",
      "\u001b[1m5/5\u001b[0m \u001b[32m━━━━━━━━━━━━━━━━━━━━\u001b[0m\u001b[37m\u001b[0m \u001b[1m0s\u001b[0m 7ms/step - loss: 1129.5963 \n",
      "Epoch 9/30\n",
      "\u001b[1m5/5\u001b[0m \u001b[32m━━━━━━━━━━━━━━━━━━━━\u001b[0m\u001b[37m\u001b[0m \u001b[1m0s\u001b[0m 8ms/step - loss: 1126.6952 \n",
      "Epoch 10/30\n",
      "\u001b[1m5/5\u001b[0m \u001b[32m━━━━━━━━━━━━━━━━━━━━\u001b[0m\u001b[37m\u001b[0m \u001b[1m0s\u001b[0m 7ms/step - loss: 1076.0728 \n",
      "Epoch 11/30\n",
      "\u001b[1m5/5\u001b[0m \u001b[32m━━━━━━━━━━━━━━━━━━━━\u001b[0m\u001b[37m\u001b[0m \u001b[1m0s\u001b[0m 7ms/step - loss: 919.2007 \n",
      "Epoch 12/30\n",
      "\u001b[1m5/5\u001b[0m \u001b[32m━━━━━━━━━━━━━━━━━━━━\u001b[0m\u001b[37m\u001b[0m \u001b[1m0s\u001b[0m 6ms/step - loss: 962.0356 \n",
      "Epoch 13/30\n",
      "\u001b[1m5/5\u001b[0m \u001b[32m━━━━━━━━━━━━━━━━━━━━\u001b[0m\u001b[37m\u001b[0m \u001b[1m0s\u001b[0m 7ms/step - loss: 1030.8116 \n",
      "Epoch 14/30\n",
      "\u001b[1m5/5\u001b[0m \u001b[32m━━━━━━━━━━━━━━━━━━━━\u001b[0m\u001b[37m\u001b[0m \u001b[1m0s\u001b[0m 7ms/step - loss: 1044.7692 \n",
      "Epoch 15/30\n",
      "\u001b[1m5/5\u001b[0m \u001b[32m━━━━━━━━━━━━━━━━━━━━\u001b[0m\u001b[37m\u001b[0m \u001b[1m0s\u001b[0m 7ms/step - loss: 1140.6096 \n",
      "Epoch 16/30\n",
      "\u001b[1m5/5\u001b[0m \u001b[32m━━━━━━━━━━━━━━━━━━━━\u001b[0m\u001b[37m\u001b[0m \u001b[1m0s\u001b[0m 7ms/step - loss: 1098.8158 \n",
      "Epoch 17/30\n",
      "\u001b[1m5/5\u001b[0m \u001b[32m━━━━━━━━━━━━━━━━━━━━\u001b[0m\u001b[37m\u001b[0m \u001b[1m0s\u001b[0m 7ms/step - loss: 999.2423 \n",
      "Epoch 18/30\n",
      "\u001b[1m5/5\u001b[0m \u001b[32m━━━━━━━━━━━━━━━━━━━━\u001b[0m\u001b[37m\u001b[0m \u001b[1m0s\u001b[0m 8ms/step - loss: 1041.0389\n",
      "Epoch 19/30\n",
      "\u001b[1m5/5\u001b[0m \u001b[32m━━━━━━━━━━━━━━━━━━━━\u001b[0m\u001b[37m\u001b[0m \u001b[1m0s\u001b[0m 7ms/step - loss: 1075.7147 \n",
      "Epoch 20/30\n",
      "\u001b[1m5/5\u001b[0m \u001b[32m━━━━━━━━━━━━━━━━━━━━\u001b[0m\u001b[37m\u001b[0m \u001b[1m0s\u001b[0m 7ms/step - loss: 1052.3010 \n",
      "Epoch 21/30\n",
      "\u001b[1m5/5\u001b[0m \u001b[32m━━━━━━━━━━━━━━━━━━━━\u001b[0m\u001b[37m\u001b[0m \u001b[1m0s\u001b[0m 7ms/step - loss: 1105.3367 \n",
      "Epoch 22/30\n",
      "\u001b[1m5/5\u001b[0m \u001b[32m━━━━━━━━━━━━━━━━━━━━\u001b[0m\u001b[37m\u001b[0m \u001b[1m0s\u001b[0m 7ms/step - loss: 1144.7764 \n",
      "Epoch 23/30\n",
      "\u001b[1m5/5\u001b[0m \u001b[32m━━━━━━━━━━━━━━━━━━━━\u001b[0m\u001b[37m\u001b[0m \u001b[1m0s\u001b[0m 8ms/step - loss: 1056.3962 \n",
      "Epoch 24/30\n",
      "\u001b[1m5/5\u001b[0m \u001b[32m━━━━━━━━━━━━━━━━━━━━\u001b[0m\u001b[37m\u001b[0m \u001b[1m0s\u001b[0m 7ms/step - loss: 1049.5679 \n",
      "Epoch 25/30\n",
      "\u001b[1m5/5\u001b[0m \u001b[32m━━━━━━━━━━━━━━━━━━━━\u001b[0m\u001b[37m\u001b[0m \u001b[1m0s\u001b[0m 8ms/step - loss: 1046.0065\n",
      "Epoch 26/30\n",
      "\u001b[1m5/5\u001b[0m \u001b[32m━━━━━━━━━━━━━━━━━━━━\u001b[0m\u001b[37m\u001b[0m \u001b[1m0s\u001b[0m 7ms/step - loss: 1071.3002 \n",
      "Epoch 27/30\n",
      "\u001b[1m5/5\u001b[0m \u001b[32m━━━━━━━━━━━━━━━━━━━━\u001b[0m\u001b[37m\u001b[0m \u001b[1m0s\u001b[0m 7ms/step - loss: 1046.8832 \n",
      "Epoch 28/30\n",
      "\u001b[1m5/5\u001b[0m \u001b[32m━━━━━━━━━━━━━━━━━━━━\u001b[0m\u001b[37m\u001b[0m \u001b[1m0s\u001b[0m 7ms/step - loss: 1049.8929\n",
      "Epoch 29/30\n",
      "\u001b[1m5/5\u001b[0m \u001b[32m━━━━━━━━━━━━━━━━━━━━\u001b[0m\u001b[37m\u001b[0m \u001b[1m0s\u001b[0m 7ms/step - loss: 1042.4050 \n",
      "Epoch 30/30\n",
      "\u001b[1m5/5\u001b[0m \u001b[32m━━━━━━━━━━━━━━━━━━━━\u001b[0m\u001b[37m\u001b[0m \u001b[1m0s\u001b[0m 8ms/step - loss: 1110.7958 \n"
     ]
    },
    {
     "data": {
      "text/plain": [
       "<keras.src.callbacks.history.History at 0x2c5d204c910>"
      ]
     },
     "execution_count": 25,
     "metadata": {},
     "output_type": "execute_result"
    }
   ],
   "source": [
    "rnnmodel.fit(X_train,y_train,epochs=30,verbose=1)"
   ]
  },
  {
   "cell_type": "code",
   "execution_count": 26,
   "id": "c1e9e9c1-9b80-478f-940f-fd566b8a0e7c",
   "metadata": {},
   "outputs": [
    {
     "name": "stdout",
     "output_type": "stream",
     "text": [
      "\u001b[1m2/2\u001b[0m \u001b[32m━━━━━━━━━━━━━━━━━━━━\u001b[0m\u001b[37m\u001b[0m \u001b[1m0s\u001b[0m 124ms/step\n"
     ]
    }
   ],
   "source": [
    "y_pred=rnnmodel.predict(X_test)"
   ]
  },
  {
   "cell_type": "code",
   "execution_count": 27,
   "id": "0494782b-67d9-439d-91de-4dee82e236bd",
   "metadata": {},
   "outputs": [
    {
     "data": {
      "text/plain": [
       "array([[162.53738],\n",
       "       [169.05202],\n",
       "       [145.98972],\n",
       "       [132.37128],\n",
       "       [150.99564],\n",
       "       [135.07977],\n",
       "       [158.65158],\n",
       "       [144.159  ],\n",
       "       [144.77835],\n",
       "       [165.06392],\n",
       "       [139.0637 ],\n",
       "       [142.2644 ],\n",
       "       [164.98784],\n",
       "       [164.9364 ],\n",
       "       [137.5615 ],\n",
       "       [167.81212],\n",
       "       [120.64131],\n",
       "       [162.50749],\n",
       "       [142.35854],\n",
       "       [157.50955],\n",
       "       [160.68217],\n",
       "       [162.51096],\n",
       "       [160.24034],\n",
       "       [140.11795],\n",
       "       [158.20772],\n",
       "       [158.68028],\n",
       "       [146.90312],\n",
       "       [155.00758],\n",
       "       [168.6453 ],\n",
       "       [118.51544],\n",
       "       [160.2835 ],\n",
       "       [133.46585],\n",
       "       [148.71913],\n",
       "       [143.28973],\n",
       "       [148.13278],\n",
       "       [137.69958],\n",
       "       [145.4986 ],\n",
       "       [127.65788],\n",
       "       [132.20753]], dtype=float32)"
      ]
     },
     "execution_count": 27,
     "metadata": {},
     "output_type": "execute_result"
    }
   ],
   "source": [
    "y_pred"
   ]
  },
  {
   "cell_type": "code",
   "execution_count": 40,
   "id": "ca42eb6b-47bc-43b2-beaa-75891047f500",
   "metadata": {},
   "outputs": [],
   "source": [
    "new_data=[101,112,113,154,167,182,106]"
   ]
  },
  {
   "cell_type": "code",
   "execution_count": 54,
   "id": "82f4095c-a7f9-41f7-ac57-0abe6c8addee",
   "metadata": {},
   "outputs": [
    {
     "name": "stdout",
     "output_type": "stream",
     "text": [
      "\u001b[1m1/1\u001b[0m \u001b[32m━━━━━━━━━━━━━━━━━━━━\u001b[0m\u001b[37m\u001b[0m \u001b[1m0s\u001b[0m 38ms/step\n"
     ]
    }
   ],
   "source": [
    "new_prediction=rnnmodel.predict(np.array(X_test[1]).reshape(1,7,1))"
   ]
  },
  {
   "cell_type": "code",
   "execution_count": 55,
   "id": "69e7f06d-bcd9-4b9b-b1f0-f0643e7de4d3",
   "metadata": {},
   "outputs": [
    {
     "data": {
      "text/plain": [
       "array([[169.05202]], dtype=float32)"
      ]
     },
     "execution_count": 55,
     "metadata": {},
     "output_type": "execute_result"
    }
   ],
   "source": [
    "new_prediction"
   ]
  },
  {
   "cell_type": "code",
   "execution_count": 56,
   "id": "a37b8116-ba39-445a-8f0b-9c70d8e0bf14",
   "metadata": {},
   "outputs": [
    {
     "data": {
      "text/plain": [
       "array([[106],\n",
       "       [194],\n",
       "       [166],\n",
       "       [185],\n",
       "       [151],\n",
       "       [190],\n",
       "       [183]], dtype=int32)"
      ]
     },
     "execution_count": 56,
     "metadata": {},
     "output_type": "execute_result"
    }
   ],
   "source": [
    "X_test[1]"
   ]
  },
  {
   "cell_type": "code",
   "execution_count": 53,
   "id": "26688e65-d0f8-47e5-9482-1bcd797699e5",
   "metadata": {},
   "outputs": [
    {
     "data": {
      "text/plain": [
       "np.int32(102)"
      ]
     },
     "execution_count": 53,
     "metadata": {},
     "output_type": "execute_result"
    }
   ],
   "source": [
    "y_test[1]"
   ]
  },
  {
   "cell_type": "code",
   "execution_count": null,
   "id": "b034148d-e111-41e6-a9c6-77fe6e6b49cb",
   "metadata": {},
   "outputs": [],
   "source": []
  }
 ],
 "metadata": {
  "kernelspec": {
   "display_name": "Python 3 (ipykernel)",
   "language": "python",
   "name": "python3"
  },
  "language_info": {
   "codemirror_mode": {
    "name": "ipython",
    "version": 3
   },
   "file_extension": ".py",
   "mimetype": "text/x-python",
   "name": "python",
   "nbconvert_exporter": "python",
   "pygments_lexer": "ipython3",
   "version": "3.11.8"
  }
 },
 "nbformat": 4,
 "nbformat_minor": 5
}
