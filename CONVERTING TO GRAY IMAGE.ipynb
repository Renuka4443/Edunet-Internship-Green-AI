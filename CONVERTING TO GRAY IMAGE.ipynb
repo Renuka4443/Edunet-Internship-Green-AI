{
 "cells": [
  {
   "cell_type": "code",
   "execution_count": 2,
   "id": "7f49aef8-b57a-4438-94f9-bb8e99211f97",
   "metadata": {},
   "outputs": [
    {
     "name": "stdout",
     "output_type": "stream",
     "text": [
      "Requirement already satisfied: opencv-python in c:\\users\\renuka\\appdata\\local\\programs\\python\\python311\\lib\\site-packages (4.11.0.86)\n",
      "Requirement already satisfied: numpy>=1.21.2 in c:\\users\\renuka\\appdata\\local\\programs\\python\\python311\\lib\\site-packages (from opencv-python) (2.1.3)\n",
      "Note: you may need to restart the kernel to use updated packages.\n"
     ]
    }
   ],
   "source": [
    "pip install opencv-python"
   ]
  },
  {
   "cell_type": "code",
   "execution_count": 1,
   "id": "28d77629-fd4a-4643-b935-355b511976d2",
   "metadata": {},
   "outputs": [],
   "source": [
    "import cv2"
   ]
  },
  {
   "cell_type": "code",
   "execution_count": 4,
   "id": "96a867bd-1fc1-4a7a-8b19-8a266346b52b",
   "metadata": {},
   "outputs": [
    {
     "data": {
      "text/plain": [
       "43"
      ]
     },
     "execution_count": 4,
     "metadata": {},
     "output_type": "execute_result"
    }
   ],
   "source": [
    "image=cv2.imread(r\"C:\\Users\\RENUKA\\Downloads\\BUGGATI.jpeg\")\n",
    "gray_image=cv2.cvtColor(image,cv2.COLOR_BGR2GRAY)\n",
    "edges=cv2.Canny(gray_image,100,200)\n",
    "cv2.imshow(\"Original Image:\",image)\n",
    "cv2.imshow(\"Extracted Features\",edges)\n",
    "cv2.waitKey(0)"
   ]
  },
  {
   "cell_type": "code",
   "execution_count": null,
   "id": "188b7882-8e46-4c02-a618-62e797058933",
   "metadata": {},
   "outputs": [],
   "source": []
  }
 ],
 "metadata": {
  "kernelspec": {
   "display_name": "Python 3 (ipykernel)",
   "language": "python",
   "name": "python3"
  },
  "language_info": {
   "codemirror_mode": {
    "name": "ipython",
    "version": 3
   },
   "file_extension": ".py",
   "mimetype": "text/x-python",
   "name": "python",
   "nbconvert_exporter": "python",
   "pygments_lexer": "ipython3",
   "version": "3.11.8"
  }
 },
 "nbformat": 4,
 "nbformat_minor": 5
}
