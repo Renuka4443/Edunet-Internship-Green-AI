{
 "cells": [
  {
   "cell_type": "code",
   "execution_count": 1,
   "id": "33d6b6f7-1e03-430f-8487-38339553f8c2",
   "metadata": {},
   "outputs": [],
   "source": [
    "import pandas as pd\n",
    "from sklearn.model_selection import train_test_split\n",
    "from sklearn.preprocessing import LabelEncoder, StandardScaler\n",
    "from sklearn.tree import DecisionTreeClassifier\n",
    "from sklearn.linear_model import LogisticRegression\n",
    "from sklearn.ensemble import RandomForestClassifier\n",
    "from sklearn.metrics import accuracy_score, classification_report"
   ]
  },
  {
   "cell_type": "code",
   "execution_count": 2,
   "id": "eb23d7ab-1891-4481-9006-1dcdf2172927",
   "metadata": {},
   "outputs": [
    {
     "data": {
      "text/html": [
       "<div>\n",
       "<style scoped>\n",
       "    .dataframe tbody tr th:only-of-type {\n",
       "        vertical-align: middle;\n",
       "    }\n",
       "\n",
       "    .dataframe tbody tr th {\n",
       "        vertical-align: top;\n",
       "    }\n",
       "\n",
       "    .dataframe thead th {\n",
       "        text-align: right;\n",
       "    }\n",
       "</style>\n",
       "<table border=\"1\" class=\"dataframe\">\n",
       "  <thead>\n",
       "    <tr style=\"text-align: right;\">\n",
       "      <th></th>\n",
       "      <th>Weight</th>\n",
       "      <th>Color</th>\n",
       "      <th>Texture</th>\n",
       "      <th>Odor</th>\n",
       "      <th>Type</th>\n",
       "    </tr>\n",
       "  </thead>\n",
       "  <tbody>\n",
       "    <tr>\n",
       "      <th>0</th>\n",
       "      <td>0.81</td>\n",
       "      <td>1</td>\n",
       "      <td>0</td>\n",
       "      <td>0</td>\n",
       "      <td>Organic</td>\n",
       "    </tr>\n",
       "    <tr>\n",
       "      <th>1</th>\n",
       "      <td>1.91</td>\n",
       "      <td>1</td>\n",
       "      <td>1</td>\n",
       "      <td>1</td>\n",
       "      <td>Organic</td>\n",
       "    </tr>\n",
       "    <tr>\n",
       "      <th>2</th>\n",
       "      <td>1.49</td>\n",
       "      <td>1</td>\n",
       "      <td>1</td>\n",
       "      <td>0</td>\n",
       "      <td>Metal</td>\n",
       "    </tr>\n",
       "    <tr>\n",
       "      <th>3</th>\n",
       "      <td>1.24</td>\n",
       "      <td>0</td>\n",
       "      <td>0</td>\n",
       "      <td>1</td>\n",
       "      <td>Organic</td>\n",
       "    </tr>\n",
       "    <tr>\n",
       "      <th>4</th>\n",
       "      <td>0.40</td>\n",
       "      <td>1</td>\n",
       "      <td>1</td>\n",
       "      <td>0</td>\n",
       "      <td>Plastic</td>\n",
       "    </tr>\n",
       "    <tr>\n",
       "      <th>...</th>\n",
       "      <td>...</td>\n",
       "      <td>...</td>\n",
       "      <td>...</td>\n",
       "      <td>...</td>\n",
       "      <td>...</td>\n",
       "    </tr>\n",
       "    <tr>\n",
       "      <th>9995</th>\n",
       "      <td>1.73</td>\n",
       "      <td>0</td>\n",
       "      <td>0</td>\n",
       "      <td>0</td>\n",
       "      <td>Organic</td>\n",
       "    </tr>\n",
       "    <tr>\n",
       "      <th>9996</th>\n",
       "      <td>1.81</td>\n",
       "      <td>1</td>\n",
       "      <td>0</td>\n",
       "      <td>0</td>\n",
       "      <td>Organic</td>\n",
       "    </tr>\n",
       "    <tr>\n",
       "      <th>9997</th>\n",
       "      <td>1.90</td>\n",
       "      <td>1</td>\n",
       "      <td>1</td>\n",
       "      <td>1</td>\n",
       "      <td>Organic</td>\n",
       "    </tr>\n",
       "    <tr>\n",
       "      <th>9998</th>\n",
       "      <td>0.86</td>\n",
       "      <td>1</td>\n",
       "      <td>1</td>\n",
       "      <td>1</td>\n",
       "      <td>Organic</td>\n",
       "    </tr>\n",
       "    <tr>\n",
       "      <th>9999</th>\n",
       "      <td>0.51</td>\n",
       "      <td>1</td>\n",
       "      <td>1</td>\n",
       "      <td>1</td>\n",
       "      <td>Organic</td>\n",
       "    </tr>\n",
       "  </tbody>\n",
       "</table>\n",
       "<p>10000 rows × 5 columns</p>\n",
       "</div>"
      ],
      "text/plain": [
       "      Weight  Color  Texture  Odor     Type\n",
       "0       0.81      1        0     0  Organic\n",
       "1       1.91      1        1     1  Organic\n",
       "2       1.49      1        1     0    Metal\n",
       "3       1.24      0        0     1  Organic\n",
       "4       0.40      1        1     0  Plastic\n",
       "...      ...    ...      ...   ...      ...\n",
       "9995    1.73      0        0     0  Organic\n",
       "9996    1.81      1        0     0  Organic\n",
       "9997    1.90      1        1     1  Organic\n",
       "9998    0.86      1        1     1  Organic\n",
       "9999    0.51      1        1     1  Organic\n",
       "\n",
       "[10000 rows x 5 columns]"
      ]
     },
     "execution_count": 2,
     "metadata": {},
     "output_type": "execute_result"
    }
   ],
   "source": [
    "df=pd.read_csv(\"Classifying Waste_dataset.csv\")\n",
    "df"
   ]
  },
  {
   "cell_type": "code",
   "execution_count": 3,
   "id": "964bd565-932e-49fa-90f0-f90010a0f3ac",
   "metadata": {},
   "outputs": [
    {
     "data": {
      "text/plain": [
       "Weight     0\n",
       "Color      0\n",
       "Texture    0\n",
       "Odor       0\n",
       "Type       0\n",
       "dtype: int64"
      ]
     },
     "execution_count": 3,
     "metadata": {},
     "output_type": "execute_result"
    }
   ],
   "source": [
    "df.isna().sum()"
   ]
  },
  {
   "cell_type": "code",
   "execution_count": 4,
   "id": "353a4105-ab5b-43a5-9919-ab978fcd04ac",
   "metadata": {},
   "outputs": [
    {
     "data": {
      "text/plain": [
       "Index(['Weight', 'Color', 'Texture', 'Odor', 'Type'], dtype='object')"
      ]
     },
     "execution_count": 4,
     "metadata": {},
     "output_type": "execute_result"
    }
   ],
   "source": [
    "df.columns"
   ]
  },
  {
   "cell_type": "code",
   "execution_count": 7,
   "id": "3d662ba4-405f-422a-abff-2b815ad3e16b",
   "metadata": {},
   "outputs": [],
   "source": [
    "# Features and target\n",
    "X = df[['Weight', 'Color', 'Texture', 'Odor']]\n",
    "y = df['Type']"
   ]
  },
  {
   "cell_type": "code",
   "execution_count": 8,
   "id": "3da25a08-14c2-4d20-a857-2d4185028186",
   "metadata": {},
   "outputs": [],
   "source": [
    "# Encode target\n",
    "le = LabelEncoder()\n",
    "y_encoded = le.fit_transform(y)"
   ]
  },
  {
   "cell_type": "code",
   "execution_count": 9,
   "id": "b7801e19-506b-47ba-8d68-7dfd1698d301",
   "metadata": {},
   "outputs": [],
   "source": [
    "# Train-test split\n",
    "X_train, X_test, y_train, y_test = train_test_split(X, y_encoded, test_size=0.2, random_state=42)"
   ]
  },
  {
   "cell_type": "code",
   "execution_count": 10,
   "id": "0e130960-6fc8-4187-9d2b-19f456fb4a22",
   "metadata": {},
   "outputs": [],
   "source": [
    "# For Logistic Regression: scale features\n",
    "scaler = StandardScaler()\n",
    "X_train_scaled = scaler.fit_transform(X_train)\n",
    "X_test_scaled = scaler.transform(X_test)"
   ]
  },
  {
   "cell_type": "code",
   "execution_count": 11,
   "id": "c4015aa2-63aa-4aa0-a221-5a0d5bee5f1a",
   "metadata": {},
   "outputs": [
    {
     "name": "stdout",
     "output_type": "stream",
     "text": [
      "[0 1 2]\n",
      "Logistic Regression Accuracy: 0.9435\n"
     ]
    }
   ],
   "source": [
    "# Train Logistic Regression\n",
    "log_reg = LogisticRegression(max_iter=1000)\n",
    "log_reg.fit(X_train_scaled, y_train)\n",
    "print(log_reg.classes_)\n",
    "# Predict & Evaluate\n",
    "y_pred_lr = log_reg.predict(X_test_scaled)\n",
    "print(\"Logistic Regression Accuracy:\", accuracy_score(y_test, y_pred_lr))"
   ]
  },
  {
   "cell_type": "code",
   "execution_count": 12,
   "id": "66642c1e-8907-43f1-acf7-a78c7e21add3",
   "metadata": {},
   "outputs": [
    {
     "data": {
      "text/plain": [
       "['scaler.pkl']"
      ]
     },
     "execution_count": 12,
     "metadata": {},
     "output_type": "execute_result"
    }
   ],
   "source": [
    "import joblib\n",
    "\n",
    "joblib.dump(log_reg, 'logistic_regression_model.pkl')\n",
    "# Save scaler used in Logistic Regression\n",
    "joblib.dump(scaler, 'scaler.pkl')"
   ]
  },
  {
   "cell_type": "code",
   "execution_count": 16,
   "id": "18301cea-a513-4898-8268-5619850e5ceb",
   "metadata": {},
   "outputs": [
    {
     "name": "stdin",
     "output_type": "stream",
     "text": [
      "Enter the Weight of the waste (in grams):  1.24\n",
      "Enter the Color Intensity (0–1):  0\n",
      "Enter the Texture Value (0–1):  0\n",
      "Enter the Odor Strength (0–1):  1\n"
     ]
    },
    {
     "name": "stdout",
     "output_type": "stream",
     "text": [
      "\n",
      "User Input Details:\n",
      "⚖ Weight: 1.24 g\n",
      "🎨 Color Intensity: 0.0\n",
      "🧵 Texture Value: 0.0\n",
      "👃 Odor Strength: 1.0\n",
      "\n",
      "🗑 Predicted Waste Type: Plastic\n"
     ]
    }
   ],
   "source": [
    "import numpy as np\n",
    "import pandas as pd\n",
    "import joblib\n",
    "\n",
    "# Load model and scaler\n",
    "log_reg = joblib.load('logistic_regression_model.pkl')\n",
    "scaler = joblib.load('scaler.pkl')\n",
    "\n",
    "# Define label mapping\n",
    "label_mapping = {0: 'Organic', 1: 'Plastic', 2: 'Metal', 3: 'Glass'}\n",
    "\n",
    "# Taking user input\n",
    "weight = float(input(\"Enter the Weight of the waste (in grams): \"))\n",
    "color = float(input(\"Enter the Color Intensity (0–1): \"))\n",
    "texture = float(input(\"Enter the Texture Value (0–1): \"))\n",
    "odor = float(input(\"Enter the Odor Strength (0–1): \"))\n",
    "\n",
    "# Display user input\n",
    "print(\"\\nUser Input Details:\")\n",
    "print(f\"⚖ Weight: {weight} g\")\n",
    "print(f\"🎨 Color Intensity: {color}\")\n",
    "print(f\"🧵 Texture Value: {texture}\")\n",
    "print(f\"👃 Odor Strength: {odor}\")\n",
    "\n",
    "# Prepare input as DataFrame to match scaler's expected format\n",
    "feature_names = ['Weight', 'Color', 'Texture', 'Odor']  # These should match your training features\n",
    "new_data = pd.DataFrame([[weight, color, texture, odor]], columns=feature_names)\n",
    "\n",
    "# Scale input\n",
    "new_data_scaled = scaler.transform(new_data)\n",
    "\n",
    "# Predict the class\n",
    "predicted_class = log_reg.predict(new_data_scaled)[0]\n",
    "\n",
    "# Get the waste type from label mapping\n",
    "predicted_type = label_mapping[predicted_class]\n",
    "\n",
    "# Display the result\n",
    "print(f\"\\n🗑 Predicted Waste Type: {predicted_type}\")\n"
   ]
  },
  {
   "cell_type": "code",
   "execution_count": 10,
   "id": "26910a67-e4cb-486f-99c8-e1ccd77f54fe",
   "metadata": {},
   "outputs": [
    {
     "name": "stdout",
     "output_type": "stream",
     "text": [
      "Decision Tree Accuracy: 0.943\n"
     ]
    }
   ],
   "source": [
    "# Train Decision Tree (no scaling needed)\n",
    "dt = DecisionTreeClassifier(max_depth=10, min_samples_leaf=5, random_state=42)\n",
    "dt.fit(X_train, y_train)\n",
    "\n",
    "# Predict & Evaluate\n",
    "y_pred_dt = dt.predict(X_test)\n",
    "print(\"Decision Tree Accuracy:\", accuracy_score(y_test, y_pred_dt))\n"
   ]
  },
  {
   "cell_type": "code",
   "execution_count": 16,
   "id": "d960e9d0-c488-4fcf-8375-0f2afd2a0183",
   "metadata": {},
   "outputs": [
    {
     "name": "stdout",
     "output_type": "stream",
     "text": [
      "Random Forest Accuracy: 0.9415\n"
     ]
    }
   ],
   "source": [
    "# Train Random Forest\n",
    "rf = RandomForestClassifier(n_estimators=200, max_depth=20, min_samples_leaf=3, random_state=42)\n",
    "rf.fit(X_train, y_train)\n",
    "\n",
    "# Predict & Evaluate\n",
    "y_pred_rf = rf.predict(X_test)\n",
    "print(\"Random Forest Accuracy:\", accuracy_score(y_test, y_pred_rf))"
   ]
  },
  {
   "cell_type": "code",
   "execution_count": null,
   "id": "0dcb4174-8528-4a2e-a6d6-8b1e3fb10b72",
   "metadata": {},
   "outputs": [],
   "source": []
  }
 ],
 "metadata": {
  "kernelspec": {
   "display_name": "Python 3 (ipykernel)",
   "language": "python",
   "name": "python3"
  },
  "language_info": {
   "codemirror_mode": {
    "name": "ipython",
    "version": 3
   },
   "file_extension": ".py",
   "mimetype": "text/x-python",
   "name": "python",
   "nbconvert_exporter": "python",
   "pygments_lexer": "ipython3",
   "version": "3.13.2"
  }
 },
 "nbformat": 4,
 "nbformat_minor": 5
}
