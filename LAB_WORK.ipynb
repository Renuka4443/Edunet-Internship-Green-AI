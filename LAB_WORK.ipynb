{
 "cells": [
  {
   "cell_type": "code",
   "execution_count": 5,
   "id": "55c2d1ff-181b-4a1d-b6b9-5bc07a7bac58",
   "metadata": {},
   "outputs": [
    {
     "name": "stdout",
     "output_type": "stream",
     "text": [
      "The name of the city is: Nagpur\n",
      "The temperature is: 40\n",
      "The carbon footprint is: 475.6\n",
      "Is the city sustainable? True\n"
     ]
    }
   ],
   "source": [
    "city=\"Nagpur\"\n",
    "print(f\"The name of the city is: {city}\")\n",
    "temp=40\n",
    "print(f\"The temperature is: {temp}\")\n",
    "carbon_footprint=475.60\n",
    "print(f\"The carbon footprint is: {carbon_footprint} kg CO2\")\n",
    "if carbon_footprint<500:\n",
    "    issustainable=True\n",
    "else:\n",
    "    issustainable=False\n",
    "print(f\"Is the city sustainable? {issustainable}\")"
   ]
  },
  {
   "cell_type": "code",
   "execution_count": 7,
   "id": "706264c0-5346-41d6-b185-e9a142a6c8e8",
   "metadata": {},
   "outputs": [
    {
     "name": "stdout",
     "output_type": "stream",
     "text": [
      "[25, 27, 28, 26, 24, 30, 20]\n"
     ]
    }
   ],
   "source": [
    "#Create a list variable for temeperatures recorded in the city\n",
    "weekly_temperatures=[25,27,28,26,24,30,20]\n",
    "print(weekly_temperatures)"
   ]
  },
  {
   "cell_type": "code",
   "execution_count": 9,
   "id": "2c26ae73-5ff3-4e18-98bd-114ca9ddbb10",
   "metadata": {},
   "outputs": [
    {
     "name": "stdout",
     "output_type": "stream",
     "text": [
      "City A\n",
      "25\n",
      "500.75\n",
      "False\n"
     ]
    }
   ],
   "source": [
    "#create a dictionary variable to store city data\n",
    "city_data={\n",
    "    \"name\":\"City A\",\n",
    "    \"temperature\":25,\n",
    "    \"carbon_footprint\":500.75,\n",
    "    \"is_sustainable\":False\n",
    "}\n",
    "print(city_data[\"name\"])\n",
    "print(city_data[\"temperature\"])\n",
    "print(city_data[\"carbon_footprint\"])\n",
    "print(city_data[\"is_sustainable\"])"
   ]
  },
  {
   "cell_type": "code",
   "execution_count": 22,
   "id": "be283962-cf9b-4074-ab9c-f455ee9e643c",
   "metadata": {},
   "outputs": [
    {
     "name": "stdout",
     "output_type": "stream",
     "text": [
      "['City B', 'City E']\n"
     ]
    }
   ],
   "source": [
    "climate_data = [\n",
    "    {\"city\": \"City A\", \"temperature\": 25, \"carbon_footprint\": 500},\n",
    "    {\"city\": \"City B\", \"temperature\": 30, \"carbon_footprint\": 350},\n",
    "    {\"city\": \"City C\", \"temperature\": 22, \"carbon_footprint\": 600},\n",
    "    {\"city\": \"City D\", \"temperature\": 15, \"carbon_footprint\": 200},\n",
    "    {\"city\": \"City E\", \"temperature\": 28, \"carbon_footprint\": 450},\n",
    "]\n",
    "\n",
    "#filter out high temperature cities in given data\n",
    "high_temp_cities=[]\n",
    "for dictionary in climate_data:\n",
    "    if dictionary[\"temperature\"]>=26:\n",
    "        high_temp_cities.append(dictionary[\"city\"])\n",
    "print(high_temp_cities)"
   ]
  },
  {
   "cell_type": "code",
   "execution_count": 23,
   "id": "d9fd68f9-e7fe-4771-9537-8aa0ffaeed9b",
   "metadata": {},
   "outputs": [
    {
     "name": "stdout",
     "output_type": "stream",
     "text": [
      "[{'city': 'City B', 'temperature': 30, 'carbon_footprint': 350}, {'city': 'City E', 'temperature': 28, 'carbon_footprint': 450}]\n",
      "City B-30\n",
      "City E-28\n"
     ]
    }
   ],
   "source": [
    "#shortcut\n",
    "#list comprehension\n",
    "threshold_temp=26\n",
    "high_temp_c=[city for city in climate_data if city['temperature']>=threshold_temp]\n",
    "print(high_temp_c)\n",
    "\n",
    "for city in high_temp_c:\n",
    "    print(f\"{city[\"city\"]}-{city[\"temperature\"]}\")"
   ]
  },
  {
   "cell_type": "code",
   "execution_count": null,
   "id": "dfc92578-d5f6-44ba-88fc-5cf08f99d907",
   "metadata": {},
   "outputs": [],
   "source": [
    "sum=0\n",
    "length=len(climate_data)\n",
    "for dictionary in climate_data:\n",
    "  sum=sum+dictionary[\"carbon_footprint\"]\n",
    "avg=sum/length\n",
    "print(f\"Total carbon footprint:{sum} kg CO2\")\n",
    "print(f\"Average of carbon footprints of all cities:{avg} kg CO2\")\n",
    "\n",
    "\n"
   ]
  }
 ],
 "metadata": {
  "kernelspec": {
   "display_name": "Python 3 (ipykernel)",
   "language": "python",
   "name": "python3"
  },
  "language_info": {
   "codemirror_mode": {
    "name": "ipython",
    "version": 3
   },
   "file_extension": ".py",
   "mimetype": "text/x-python",
   "name": "python",
   "nbconvert_exporter": "python",
   "pygments_lexer": "ipython3",
   "version": "3.13.2"
  }
 },
 "nbformat": 4,
 "nbformat_minor": 5
}
