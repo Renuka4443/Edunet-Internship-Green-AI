{
 "cells": [
  {
   "cell_type": "code",
   "execution_count": 1,
   "id": "38d5756b-249b-40c0-8832-976a9ae8bbb8",
   "metadata": {},
   "outputs": [
    {
     "name": "stdout",
     "output_type": "stream",
     "text": [
      "Requirement already satisfied: pandas in c:\\users\\renuka\\appdata\\local\\programs\\python\\python313\\lib\\site-packages (2.2.3)\n",
      "Requirement already satisfied: numpy>=1.26.0 in c:\\users\\renuka\\appdata\\local\\programs\\python\\python313\\lib\\site-packages (from pandas) (2.2.4)\n",
      "Requirement already satisfied: python-dateutil>=2.8.2 in c:\\users\\renuka\\appdata\\local\\programs\\python\\python313\\lib\\site-packages (from pandas) (2.9.0.post0)\n",
      "Requirement already satisfied: pytz>=2020.1 in c:\\users\\renuka\\appdata\\local\\programs\\python\\python313\\lib\\site-packages (from pandas) (2025.2)\n",
      "Requirement already satisfied: tzdata>=2022.7 in c:\\users\\renuka\\appdata\\local\\programs\\python\\python313\\lib\\site-packages (from pandas) (2025.2)\n",
      "Requirement already satisfied: six>=1.5 in c:\\users\\renuka\\appdata\\local\\programs\\python\\python313\\lib\\site-packages (from python-dateutil>=2.8.2->pandas) (1.17.0)\n"
     ]
    },
    {
     "name": "stderr",
     "output_type": "stream",
     "text": [
      "\n",
      "[notice] A new release of pip is available: 25.0.1 -> 25.1.1\n",
      "[notice] To update, run: python.exe -m pip install --upgrade pip\n"
     ]
    }
   ],
   "source": [
    "!pip install pandas"
   ]
  },
  {
   "cell_type": "code",
   "execution_count": 2,
   "id": "d4d64a08-8478-4b37-ae91-d81cd6bb3c3d",
   "metadata": {},
   "outputs": [],
   "source": [
    "import pandas as pd"
   ]
  },
  {
   "cell_type": "code",
   "execution_count": 3,
   "id": "3ce0fde4-fcf3-4cd4-a75b-aaff0cdaf404",
   "metadata": {},
   "outputs": [
    {
     "name": "stdout",
     "output_type": "stream",
     "text": [
      "0    1\n",
      "1    2\n",
      "2    3\n",
      "3    4\n",
      "4    5\n",
      "5    6\n",
      "dtype: int64\n"
     ]
    }
   ],
   "source": [
    "#create a series\n",
    "data=[1,2,3,4,5,6]\n",
    "series_list=pd.Series(data)\n",
    "print(series_list)"
   ]
  },
  {
   "cell_type": "code",
   "execution_count": 6,
   "id": "cbb7bdeb-1e31-4e94-9b97-2008b4643f47",
   "metadata": {},
   "outputs": [
    {
     "name": "stdout",
     "output_type": "stream",
     "text": [
      "a    1\n",
      "b    2\n",
      "c    3\n",
      "d    4\n",
      "e    5\n",
      "f    6\n",
      "dtype: int64\n"
     ]
    }
   ],
   "source": [
    "#creating panda series with specified index\n",
    "i=['a','b','c','d','e','f']\n",
    "series_with_index=pd.Series(data,index=i)\n",
    "print(series_with_index)"
   ]
  },
  {
   "cell_type": "code",
   "execution_count": 9,
   "id": "ceac4359-18c6-410a-8be9-203a8428f123",
   "metadata": {},
   "outputs": [
    {
     "name": "stdout",
     "output_type": "stream",
     "text": [
      "One      1\n",
      "Two      2\n",
      "Three    3\n",
      "dtype: int64\n"
     ]
    },
    {
     "name": "stderr",
     "output_type": "stream",
     "text": [
      "C:\\Users\\RENUKA\\AppData\\Local\\Temp\\ipykernel_12768\\2837234933.py:5: FutureWarning: Series.__getitem__ treating keys as positions is deprecated. In a future version, integer keys will always be treated as labels (consistent with DataFrame behavior). To access a value by position, use `ser.iloc[pos]`\n",
      "  dict_series[2]\n"
     ]
    },
    {
     "data": {
      "text/plain": [
       "np.int64(3)"
      ]
     },
     "execution_count": 9,
     "metadata": {},
     "output_type": "execute_result"
    }
   ],
   "source": [
    "#creating a pandas series using dictionaries\n",
    "my_dict={\"One\":1,\"Two\":2,\"Three\":3}\n",
    "dict_series=pd.Series(my_dict)\n",
    "print(dict_series)"
   ]
  },
  {
   "cell_type": "code",
   "execution_count": 10,
   "id": "b74e5bcb-3dc4-4a6d-a78c-a4bc8b5e37d2",
   "metadata": {},
   "outputs": [
    {
     "name": "stdout",
     "output_type": "stream",
     "text": [
      "3\n"
     ]
    },
    {
     "name": "stderr",
     "output_type": "stream",
     "text": [
      "C:\\Users\\RENUKA\\AppData\\Local\\Temp\\ipykernel_12768\\2799563648.py:1: FutureWarning: Series.__getitem__ treating keys as positions is deprecated. In a future version, integer keys will always be treated as labels (consistent with DataFrame behavior). To access a value by position, use `ser.iloc[pos]`\n",
      "  print(dict_series[2])\n"
     ]
    }
   ],
   "source": [
    "print(dict_series[2])"
   ]
  },
  {
   "cell_type": "code",
   "execution_count": 12,
   "id": "28c1171e-677a-4db5-9ef4-59e7282bec64",
   "metadata": {},
   "outputs": [
    {
     "name": "stdout",
     "output_type": "stream",
     "text": [
      "1\n"
     ]
    }
   ],
   "source": [
    "print(dict_series['One'])"
   ]
  },
  {
   "cell_type": "code",
   "execution_count": 16,
   "id": "8242b23f-41d5-4341-bcbb-07e27dba390f",
   "metadata": {},
   "outputs": [
    {
     "name": "stdout",
     "output_type": "stream",
     "text": [
      "0    1\n",
      "1    2\n",
      "2    3\n",
      "3    4\n",
      "4    5\n",
      "5    6\n",
      "dtype: int64\n",
      "0    1\n",
      "1    2\n",
      "2    3\n",
      "dtype: int64\n",
      "3    4\n",
      "4    5\n",
      "5    6\n",
      "dtype: int64\n",
      "(6,)\n",
      "count    6.000000\n",
      "mean     3.500000\n",
      "std      1.870829\n",
      "min      1.000000\n",
      "25%      2.250000\n",
      "50%      3.500000\n",
      "75%      4.750000\n",
      "max      6.000000\n",
      "dtype: float64\n",
      "[1 2 3 4 5 6]\n"
     ]
    }
   ],
   "source": [
    "#create a series\n",
    "data=[1,2,3,4,5,6]\n",
    "series=pd.Series(data)\n",
    "print(series)\n",
    "#return the first n rows\n",
    "first_n_rows=series.head(3)\n",
    "print(first_n_rows)\n",
    "#return the last n rows\n",
    "last_n_rows=series.tail(3)\n",
    "print(last_n_rows)\n",
    "#return dimesions(rows,colums)\n",
    "dimensions=series.shape\n",
    "print(dimensions)\n",
    "#generate descriptive statistics\n",
    "stats=series.describe()\n",
    "print(stats)\n",
    "#return unique values\n",
    "unique_values=series.unique()\n",
    "print(unique_values)"
   ]
  },
  {
   "cell_type": "code",
   "execution_count": null,
   "id": "0de0e69d-d7c3-4aa5-8593-97dd04beb1f1",
   "metadata": {},
   "outputs": [],
   "source": [
    "#element-wise addition"
   ]
  }
 ],
 "metadata": {
  "kernelspec": {
   "display_name": "Python 3 (ipykernel)",
   "language": "python",
   "name": "python3"
  },
  "language_info": {
   "codemirror_mode": {
    "name": "ipython",
    "version": 3
   },
   "file_extension": ".py",
   "mimetype": "text/x-python",
   "name": "python",
   "nbconvert_exporter": "python",
   "pygments_lexer": "ipython3",
   "version": "3.13.2"
  }
 },
 "nbformat": 4,
 "nbformat_minor": 5
}
