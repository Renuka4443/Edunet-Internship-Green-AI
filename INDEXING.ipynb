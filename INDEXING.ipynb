{
 "cells": [
  {
   "cell_type": "code",
   "execution_count": 2,
   "id": "835f2f3d-7b14-43a0-be6c-2150310b240e",
   "metadata": {},
   "outputs": [],
   "source": [
    "import numpy as np"
   ]
  },
  {
   "cell_type": "code",
   "execution_count": 18,
   "id": "a8b51fb1-5506-40e9-90a1-ab2d7d4db678",
   "metadata": {},
   "outputs": [
    {
     "name": "stdout",
     "output_type": "stream",
     "text": [
      "[1 4 3 5 6 8 9]\n"
     ]
    }
   ],
   "source": [
    "import numpy as np\n",
    "Employee_rating = np.array([1, 4, 3, 5, 6, 8, 9, 10, 12])\n",
    "print(Employee_rating[0:7])"
   ]
  },
  {
   "cell_type": "code",
   "execution_count": 19,
   "id": "ef566e87-070e-4ac4-9541-91d95a38cf9c",
   "metadata": {},
   "outputs": [
    {
     "name": "stdout",
     "output_type": "stream",
     "text": [
      "['OPPs' 'Java' 'Cloud']\n"
     ]
    }
   ],
   "source": [
    "Books = np.array(['Physics', 'DataScience', 'Maths', 'Python', 'Hadoop', 'OPPs', 'Java', 'Cloud'])\n",
    "print(Books[5:])"
   ]
  },
  {
   "cell_type": "code",
   "execution_count": 20,
   "id": "a9c8dc06-bcdc-4520-bed6-f7b1ef23b122",
   "metadata": {},
   "outputs": [
    {
     "name": "stdout",
     "output_type": "stream",
     "text": [
      "[34 58 69 44 56 37]\n"
     ]
    }
   ],
   "source": [
    "#Negative slicing for 1D array\n",
    "Neg_slice = np.array([13, 34, 58, 69, 44, 56, 37, 24])\n",
    "print(Neg_slice[1:-1])"
   ]
  },
  {
   "cell_type": "code",
   "execution_count": 5,
   "id": "9ccd64c7-a9b3-49b5-9515-0f2a5609c165",
   "metadata": {},
   "outputs": [
    {
     "name": "stdout",
     "output_type": "stream",
     "text": [
      "[11 22 33 44 55]\n",
      "1\n"
     ]
    }
   ],
   "source": [
    "Z=np.array([11,22,33,44,55])\n",
    "print(Z)\n",
    "print(Z.ndim)"
   ]
  },
  {
   "cell_type": "code",
   "execution_count": 4,
   "id": "25768caa-9f38-4b18-b842-e93dc5d69e77",
   "metadata": {},
   "outputs": [
    {
     "name": "stdout",
     "output_type": "stream",
     "text": [
      "[[ 11  22  33  44  55]\n",
      " [ 66  77  88  99 100]]\n",
      "2\n"
     ]
    }
   ],
   "source": [
    "Z=np.array([[11,22,33,44,55],[66,77,88,99,100]])\n",
    "print(Z)\n",
    "print(Z.ndim)"
   ]
  },
  {
   "cell_type": "code",
   "execution_count": 8,
   "id": "9c3fd7d6-8869-4698-8b40-bdc40f50d7a7",
   "metadata": {},
   "outputs": [
    {
     "name": "stdout",
     "output_type": "stream",
     "text": [
      "Shape: (2, 2, 3)\n",
      "Array:\n",
      "[[[ 1  2  3]\n",
      "  [ 4  5  6]]\n",
      "\n",
      " [[ 7  8  9]\n",
      "  [10 11 12]]]\n",
      "[5 6]\n"
     ]
    }
   ],
   "source": [
    "import numpy as np\n",
    "array_3d = np.array([\n",
    "    [[1, 2, 3], [4, 5, 6]],      \n",
    "    [[7, 8, 9], [10, 11, 12]]    \n",
    "])\n",
    "\n",
    "print(\"Shape:\", array_3d.shape)  # Output: (2, 2, 3)\n",
    "\n",
    "print(\"Array:\")\n",
    "print(array_3d)\n",
    "print(array_3d[0][1][1:]) "
   ]
  },
  {
   "cell_type": "code",
   "execution_count": 15,
   "id": "eeaca7c7-57d4-49ac-b213-95172357d05c",
   "metadata": {},
   "outputs": [
    {
     "name": "stdout",
     "output_type": "stream",
     "text": [
      "[3 4]\n"
     ]
    }
   ],
   "source": [
    "#NEGATIVE INDEXING\n",
    "arr=np.array([1,2,3,4])\n",
    "print(arr[-2::])"
   ]
  },
  {
   "cell_type": "code",
   "execution_count": 16,
   "id": "cd9ab4ad-f433-4c59-82c2-212ee16b2e0d",
   "metadata": {},
   "outputs": [
    {
     "name": "stdout",
     "output_type": "stream",
     "text": [
      "[ 1  2  3  4  5  6  7  8  9 10 11 12 13 14 15]\n"
     ]
    }
   ],
   "source": [
    "arr1=np.array([1,2,3,4,5,6,7,8,9,10,11,12,13,14,15])\n",
    "print(arr1)"
   ]
  },
  {
   "cell_type": "code",
   "execution_count": 21,
   "id": "c3e11c4f-6b6c-4531-9c1d-10661d9b6c23",
   "metadata": {},
   "outputs": [
    {
     "name": "stdout",
     "output_type": "stream",
     "text": [
      "1D Array: [ 1  2  3  4  5  6  7  8  9 10 11 12 13 14 15 16 17 18]\n",
      "2D Array:\n",
      " [[ 1  2  3  4  5]\n",
      " [ 6  7  8  9 10]\n",
      " [11 12 13 14 15]\n",
      " [16 17 18 19 20]\n",
      " [21 22 23 24 25]]\n",
      "3D Array:\n",
      " [[[ 1  2  3  4]\n",
      "  [ 5  6  7  8]\n",
      "  [ 9 10 11 12]]\n",
      "\n",
      " [[13 14 15 16]\n",
      "  [17 18 19 20]\n",
      "  [21 22 23 24]]]\n",
      "Original array: [ 1  2  3  4  5  6  7  8  9 10 11 12 13 14 15 16 17 18]\n",
      "First 5 elements [0:5]: [1 2 3 4 5]\n",
      "Every second element [::2]: [ 1  3  5  7  9 11 13 15 17]\n",
      "Elements from index 5 to 10 [5:11]: [ 6  7  8  9 10 11]\n",
      "Last 5 elements [-5:]: [14 15 16 17 18]\n",
      "Every third element starting from index 2 [2::3]: [ 3  6  9 12 15 18]\n",
      "Reverse array [::-1]: [18 17 16 15 14 13 12 11 10  9  8  7  6  5  4  3  2  1]\n",
      "Original 2D array:\n",
      " [[ 1  2  3  4  5]\n",
      " [ 6  7  8  9 10]\n",
      " [11 12 13 14 15]\n",
      " [16 17 18 19 20]\n",
      " [21 22 23 24 25]]\n",
      "First 2 rows [0:2]:\n",
      " [[ 1  2  3  4  5]\n",
      " [ 6  7  8  9 10]]\n",
      "Last 3 columns [:, -3:]:\n",
      " [[ 3  4  5]\n",
      " [ 8  9 10]\n",
      " [13 14 15]\n",
      " [18 19 20]\n",
      " [23 24 25]]\n",
      "First 3 rows and first 3 columns [0:3, 0:3]:\n",
      " [[ 1  2  3]\n",
      " [ 6  7  8]\n",
      " [11 12 13]]\n",
      "Every second row [::2]:\n",
      " [[ 1  2  3  4  5]\n",
      " [11 12 13 14 15]\n",
      " [21 22 23 24 25]]\n",
      "Middle columns (index 1-3) [:, 1:4]:\n",
      " [[ 2  3  4]\n",
      " [ 7  8  9]\n",
      " [12 13 14]\n",
      " [17 18 19]\n",
      " [22 23 24]]\n",
      "Original 3D array:\n",
      " [[[ 1  2  3  4]\n",
      "  [ 5  6  7  8]\n",
      "  [ 9 10 11 12]]\n",
      "\n",
      " [[13 14 15 16]\n",
      "  [17 18 19 20]\n",
      "  [21 22 23 24]]]\n",
      "First matrix [0]:\n",
      " [[ 1  2  3  4]\n",
      " [ 5  6  7  8]\n",
      " [ 9 10 11 12]]\n",
      "Second matrix, first 2 rows [1, 0:2]:\n",
      " [[13 14 15 16]\n",
      " [17 18 19 20]]\n",
      "All matrices, middle row, all columns [:, 1, :]:\n",
      " [[ 5  6  7  8]\n",
      " [17 18 19 20]]\n",
      "First matrix, all rows, last 2 columns [0, :, -2:]:\n",
      " [[ 3  4]\n",
      " [ 7  8]\n",
      " [11 12]]\n",
      "Second matrix, second row, middle 2 elements [1, 1, 1:3]: [18 19]\n",
      "1D negative slicing:\n",
      "Remove first and last element [1:-1]: [ 2  3  4  5  6  7  8  9 10 11 12 13 14 15 16 17]\n",
      "Last 3 elements [-3:]: [16 17 18]\n",
      "All but last 2 elements [:-2]: [ 1  2  3  4  5  6  7  8  9 10 11 12 13 14 15 16]\n",
      "\n",
      "2D negative slicing:\n",
      "Remove first and last row [1:-1]:\n",
      " [[ 6  7  8  9 10]\n",
      " [11 12 13 14 15]\n",
      " [16 17 18 19 20]]\n",
      "Remove first and last column [:, 1:-1]:\n",
      " [[ 2  3  4]\n",
      " [ 7  8  9]\n",
      " [12 13 14]\n",
      " [17 18 19]\n",
      " [22 23 24]]\n",
      "Remove borders [1:-1, 1:-1]:\n",
      " [[ 7  8  9]\n",
      " [12 13 14]\n",
      " [17 18 19]]\n",
      "\n",
      "3D negative slicing:\n",
      "Second matrix, remove first and last row [1, 1:-1]:\n",
      " [[17 18 19 20]]\n",
      "All matrices, remove first and last column [:, :, 1:-1]:\n",
      " [[[ 2  3]\n",
      "  [ 6  7]\n",
      "  [10 11]]\n",
      "\n",
      " [[14 15]\n",
      "  [18 19]\n",
      "  [22 23]]]\n",
      "Original 1D array: [ 1  2  3  4  5  6  7  8  9 10 11 12 13 14 15 16 17 18]\n",
      "Positive slicing [2:16]: [ 3  4  5  6  7  8  9 10 11 12 13 14 15 16]\n",
      "Negative slicing [2:-2]: [ 3  4  5  6  7  8  9 10 11 12 13 14 15 16]\n",
      "Both give same result: True\n",
      "\n",
      "Original 2D array shape: (5, 5)\n",
      "Positive slicing [1:4, 1:4] shape: (3, 3)\n",
      "Negative slicing [1:-1, 1:-1] shape: (3, 3)\n",
      "Results are equal: True\n"
     ]
    }
   ],
   "source": [
    "# Create a 1D NumPy array with at least 15 elements\n",
    "array_1d = np.array([1, 2, 3, 4, 5, 6, 7, 8, 9, 10, 11, 12, 13, 14, 15, 16, 17, 18])\n",
    "print(\"1D Array:\", array_1d)\n",
    "\n",
    "# Create a 2D NumPy array with a minimum of 4 rows and 5 columns\n",
    "array_2d = np.array([[1, 2, 3, 4, 5],\n",
    "                     [6, 7, 8, 9, 10],\n",
    "                     [11, 12, 13, 14, 15],\n",
    "                     [16, 17, 18, 19, 20],\n",
    "                     [21, 22, 23, 24, 25]])\n",
    "print(\"2D Array:\\n\", array_2d)\n",
    "\n",
    "# Create a 3D NumPy array with at least 2 matrices, each containing 3 rows and 4 columns\n",
    "array_3d = np.array([[[1, 2, 3, 4],\n",
    "                      [5, 6, 7, 8],\n",
    "                      [9, 10, 11, 12]],\n",
    "                     [[13, 14, 15, 16],\n",
    "                      [17, 18, 19, 20],\n",
    "                      [21, 22, 23, 24]]])\n",
    "print(\"3D Array:\\n\", array_3d)\n",
    "\n",
    "print(\"Original array:\", array_1d)\n",
    "print(\"First 5 elements [0:5]:\", array_1d[0:5])\n",
    "print(\"Every second element [::2]:\", array_1d[::2])\n",
    "print(\"Elements from index 5 to 10 [5:11]:\", array_1d[5:11])\n",
    "print(\"Last 5 elements [-5:]:\", array_1d[-5:])\n",
    "print(\"Every third element starting from index 2 [2::3]:\", array_1d[2::3])\n",
    "print(\"Reverse array [::-1]:\", array_1d[::-1])\n",
    "\n",
    "print(\"Original 2D array:\\n\", array_2d)\n",
    "print(\"First 2 rows [0:2]:\\n\", array_2d[0:2])\n",
    "print(\"Last 3 columns [:, -3:]:\\n\", array_2d[:, -3:])\n",
    "print(\"First 3 rows and first 3 columns [0:3, 0:3]:\\n\", array_2d[0:3, 0:3])\n",
    "print(\"Every second row [::2]:\\n\", array_2d[::2])\n",
    "print(\"Middle columns (index 1-3) [:, 1:4]:\\n\", array_2d[:, 1:4])\n",
    "\n",
    "print(\"Original 3D array:\\n\", array_3d)\n",
    "print(\"First matrix [0]:\\n\", array_3d[0])\n",
    "print(\"Second matrix, first 2 rows [1, 0:2]:\\n\", array_3d[1, 0:2])\n",
    "print(\"All matrices, middle row, all columns [:, 1, :]:\\n\", array_3d[:, 1, :])\n",
    "print(\"First matrix, all rows, last 2 columns [0, :, -2:]:\\n\", array_3d[0, :, -2:])\n",
    "print(\"Second matrix, second row, middle 2 elements [1, 1, 1:3]:\", array_3d[1, 1, 1:3])\n",
    "\n",
    "\n",
    "# Negative slicing on 1D array\n",
    "print(\"1D negative slicing:\")\n",
    "print(\"Remove first and last element [1:-1]:\", array_1d[1:-1])\n",
    "print(\"Last 3 elements [-3:]:\", array_1d[-3:])\n",
    "print(\"All but last 2 elements [:-2]:\", array_1d[:-2])\n",
    "\n",
    "# Negative slicing on 2D array\n",
    "print(\"\\n2D negative slicing:\")\n",
    "print(\"Remove first and last row [1:-1]:\\n\", array_2d[1:-1])\n",
    "print(\"Remove first and last column [:, 1:-1]:\\n\", array_2d[:, 1:-1])\n",
    "print(\"Remove borders [1:-1, 1:-1]:\\n\", array_2d[1:-1, 1:-1])\n",
    "\n",
    "# Negative slicing on 3D array\n",
    "print(\"\\n3D negative slicing:\")\n",
    "print(\"Second matrix, remove first and last row [1, 1:-1]:\\n\", array_3d[1, 1:-1])\n",
    "print(\"All matrices, remove first and last column [:, :, 1:-1]:\\n\", array_3d[:, :, 1:-1])\n",
    "\n",
    "print(\"Original 1D array:\", array_1d)\n",
    "print(\"Positive slicing [2:16]:\", array_1d[2:16])\n",
    "print(\"Negative slicing [2:-2]:\", array_1d[2:-2])\n",
    "print(\"Both give same result:\", np.array_equal(array_1d[2:16], array_1d[2:-2]))\n",
    "\n",
    "print(\"\\nOriginal 2D array shape:\", array_2d.shape)\n",
    "print(\"Positive slicing [1:4, 1:4] shape:\", array_2d[1:4, 1:4].shape)\n",
    "print(\"Negative slicing [1:-1, 1:-1] shape:\", array_2d[1:-1, 1:-1].shape)\n",
    "print(\"Results are equal:\", np.array_equal(array_2d[1:4, 1:4], array_2d[1:-1, 1:-1]))"
   ]
  },
  {
   "cell_type": "code",
   "execution_count": null,
   "id": "ea0c3867-f382-456d-91d0-662a3ce932cd",
   "metadata": {},
   "outputs": [],
   "source": []
  }
 ],
 "metadata": {
  "kernelspec": {
   "display_name": "Python 3 (ipykernel)",
   "language": "python",
   "name": "python3"
  },
  "language_info": {
   "codemirror_mode": {
    "name": "ipython",
    "version": 3
   },
   "file_extension": ".py",
   "mimetype": "text/x-python",
   "name": "python",
   "nbconvert_exporter": "python",
   "pygments_lexer": "ipython3",
   "version": "3.13.2"
  }
 },
 "nbformat": 4,
 "nbformat_minor": 5
}
