{
 "cells": [
  {
   "cell_type": "code",
   "execution_count": 1,
   "id": "282bb1da-c81c-4ac9-ac35-fe16b9fd3182",
   "metadata": {},
   "outputs": [],
   "source": [
    "import numpy as np\n",
    "random_data = np.random.randint(10, 50, size = (5, 4))"
   ]
  },
  {
   "cell_type": "code",
   "execution_count": 2,
   "id": "f0597e56-d780-4b6f-a6f4-533d836a67e5",
   "metadata": {},
   "outputs": [
    {
     "data": {
      "text/plain": [
       "array([[12, 39, 28, 40],\n",
       "       [37, 20, 23, 24],\n",
       "       [16, 31, 15, 28],\n",
       "       [43, 38, 13, 43],\n",
       "       [23, 49, 30, 34]], dtype=int32)"
      ]
     },
     "execution_count": 2,
     "metadata": {},
     "output_type": "execute_result"
    }
   ],
   "source": [
    "random_data"
   ]
  },
  {
   "cell_type": "code",
   "execution_count": 3,
   "id": "b98614e0-d385-4b40-9c61-976285380179",
   "metadata": {},
   "outputs": [
    {
     "data": {
      "text/plain": [
       "array([12, 20, 13, 24], dtype=int32)"
      ]
     },
     "execution_count": 3,
     "metadata": {},
     "output_type": "execute_result"
    }
   ],
   "source": [
    "random_data.min(axis=0) #minimum of every columnwise"
   ]
  },
  {
   "cell_type": "code",
   "execution_count": 4,
   "id": "aea714d5-4e85-4309-8a2e-51e29957199b",
   "metadata": {},
   "outputs": [
    {
     "data": {
      "text/plain": [
       "array([12, 20, 15, 13, 23], dtype=int32)"
      ]
     },
     "execution_count": 4,
     "metadata": {},
     "output_type": "execute_result"
    }
   ],
   "source": [
    "random_data.min(axis=1) #minimum of every rowwise"
   ]
  },
  {
   "cell_type": "code",
   "execution_count": 5,
   "id": "7dabf0b0-748a-4670-ae51-16b3cfab76ee",
   "metadata": {},
   "outputs": [
    {
     "data": {
      "text/plain": [
       "np.int64(586)"
      ]
     },
     "execution_count": 5,
     "metadata": {},
     "output_type": "execute_result"
    }
   ],
   "source": [
    "random_data.sum()"
   ]
  },
  {
   "cell_type": "code",
   "execution_count": 6,
   "id": "59f08ef1-26eb-4329-8aeb-5046f9aac8a2",
   "metadata": {},
   "outputs": [
    {
     "data": {
      "text/plain": [
       "array([131, 177, 109, 169])"
      ]
     },
     "execution_count": 6,
     "metadata": {},
     "output_type": "execute_result"
    }
   ],
   "source": [
    "random_data.sum(axis=0)"
   ]
  },
  {
   "cell_type": "code",
   "execution_count": 7,
   "id": "5662bfd2-542e-4f5b-8680-ac0a3edf6eb3",
   "metadata": {},
   "outputs": [
    {
     "data": {
      "text/plain": [
       "array([119, 104,  90, 137, 136])"
      ]
     },
     "execution_count": 7,
     "metadata": {},
     "output_type": "execute_result"
    }
   ],
   "source": [
    "random_data.sum(axis=1)"
   ]
  },
  {
   "cell_type": "code",
   "execution_count": 8,
   "id": "7f90889c-7b8c-4fa6-93da-5b1a1644645f",
   "metadata": {},
   "outputs": [
    {
     "data": {
      "text/plain": [
       "array([119, 104,  90, 137, 136])"
      ]
     },
     "execution_count": 8,
     "metadata": {},
     "output_type": "execute_result"
    }
   ],
   "source": [
    "total=random_data.sum(axis=1)\n",
    "total"
   ]
  },
  {
   "cell_type": "code",
   "execution_count": 9,
   "id": "af76d6c1-18e8-4201-ace4-5041c3fd3251",
   "metadata": {},
   "outputs": [
    {
     "data": {
      "text/plain": [
       "np.int32(12)"
      ]
     },
     "execution_count": 9,
     "metadata": {},
     "output_type": "execute_result"
    }
   ],
   "source": [
    "random_data.min() # minimum of all set"
   ]
  },
  {
   "cell_type": "code",
   "execution_count": 10,
   "id": "3918676b-ccd8-4bc7-8ded-83be302d16dd",
   "metadata": {},
   "outputs": [
    {
     "data": {
      "text/plain": [
       "np.int64(2)"
      ]
     },
     "execution_count": 10,
     "metadata": {},
     "output_type": "execute_result"
    }
   ],
   "source": [
    "total.argmin() ##"
   ]
  },
  {
   "cell_type": "code",
   "execution_count": 11,
   "id": "f6b01048-25d8-425e-80e7-e5eb19acec46",
   "metadata": {},
   "outputs": [
    {
     "data": {
      "text/plain": [
       "np.int64(3)"
      ]
     },
     "execution_count": 11,
     "metadata": {},
     "output_type": "execute_result"
    }
   ],
   "source": [
    "total.argmax()"
   ]
  },
  {
   "cell_type": "code",
   "execution_count": 12,
   "id": "aca4394c-9eaa-4b8b-8268-976a181ce0a2",
   "metadata": {},
   "outputs": [
    {
     "name": "stdout",
     "output_type": "stream",
     "text": [
      "Carbon Emissions Data (tons):\n",
      " [[3732 3607 2653 4264 1835]\n",
      " [1763 2731 4431 2033 4795]\n",
      " [1277 2778 2828 3647 4142]\n",
      " [4544 3648 4468 3362 1705]\n",
      " [4558 3599 3135 3222 4672]\n",
      " [3897 2701 1537 3893 3120]\n",
      " [3825 2940 3163 1976 1755]\n",
      " [4781 3046 2871 4503 3496]\n",
      " [3898 1099 3008 4249 1755]\n",
      " [1797 1659 4219 3958 1423]]\n",
      "\n",
      "Total emissions per city over 10 years:\n",
      " [34072 27808 32313 35107 28698]\n",
      "\n",
      "Year with the highest total emissions: Year 5\n",
      "\n",
      "Average emissions for all cities in Year 5: 3837.20 tons\n"
     ]
    }
   ],
   "source": [
    "import numpy as np\n",
    "\n",
    "# 1. Create a 2D NumPy array for 10 years (rows) and 5 cities (columns)\n",
    "np.random.seed(0)  # For reproducibility\n",
    "emissions = np.random.randint(1000, 5001, size=(10, 5))\n",
    "print(\"Carbon Emissions Data (tons):\\n\", emissions)\n",
    "\n",
    "# 2. Total emissions for each city over 10 years (sum along rows)\n",
    "total_emissions_per_city = np.sum(emissions, axis=0)\n",
    "print(\"\\nTotal emissions per city over 10 years:\\n\", total_emissions_per_city)\n",
    "\n",
    "# 3. Find the year with the highest total emissions (sum along columns)\n",
    "total_emissions_per_year = np.sum(emissions, axis=1)\n",
    "year_with_max_emissions = np.argmax(total_emissions_per_year) + 1  # +1 for 1-based indexing\n",
    "print(f\"\\nYear with the highest total emissions: Year {year_with_max_emissions}\")\n",
    "\n",
    "# 4. Calculate average emissions for all cities in Year 5 (index 4)\n",
    "average_year5 = np.mean(emissions[4])\n",
    "print(f\"\\nAverage emissions for all cities in Year 5: {average_year5:.2f} tons\")"
   ]
  },
  {
   "cell_type": "code",
   "execution_count": 14,
   "id": "deb665fe-700d-4809-9150-977c0e367934",
   "metadata": {},
   "outputs": [
    {
     "name": "stdout",
     "output_type": "stream",
     "text": [
      "[11 19 42 41 20 33 45 21 38 44 10 10 46 15 48 50 27 25 14 51]\n"
     ]
    }
   ],
   "source": [
    "data=np.random.randint(10,60,size=20)\n",
    "print(data)"
   ]
  },
  {
   "cell_type": "code",
   "execution_count": 16,
   "id": "b1ac03ab-ebfc-4af6-9bdf-13fd42e5bb51",
   "metadata": {},
   "outputs": [
    {
     "name": "stdout",
     "output_type": "stream",
     "text": [
      "Average:\n",
      "30.5\n"
     ]
    }
   ],
   "source": [
    "avg_data=np.mean(data)\n",
    "print(\"Average:\")\n",
    "print(avg_data)"
   ]
  },
  {
   "cell_type": "code",
   "execution_count": 20,
   "id": "a5367dd3-cca9-44bd-8305-61079f0cffd6",
   "metadata": {},
   "outputs": [
    {
     "name": "stdout",
     "output_type": "stream",
     "text": [
      "1\n",
      "2\n",
      "11\n",
      "12\n",
      "14\n",
      "19\n"
     ]
    }
   ],
   "source": [
    "#years in which value is below 20\n",
    "for i in range(0,20):\n",
    "    if data[i]<20:\n",
    "        print(i+1)\n"
   ]
  },
  {
   "cell_type": "code",
   "execution_count": 24,
   "id": "ae3d0dd4-9916-4303-a4de-cea346559ffb",
   "metadata": {},
   "outputs": [
    {
     "data": {
      "text/plain": [
       "array([ 1,  2,  5, 11, 12, 14, 19])"
      ]
     },
     "execution_count": 24,
     "metadata": {},
     "output_type": "execute_result"
    }
   ],
   "source": [
    "below_20=np.where(data<=20)[0]+1\n",
    "below_20"
   ]
  },
  {
   "cell_type": "code",
   "execution_count": 26,
   "id": "dc58fed4-b4d5-4bf9-a2a1-aae2792b9546",
   "metadata": {},
   "outputs": [
    {
     "data": {
      "text/plain": [
       "np.int32(51)"
      ]
     },
     "execution_count": 26,
     "metadata": {},
     "output_type": "execute_result"
    }
   ],
   "source": [
    "high_per=data.max()\n",
    "high_per"
   ]
  },
  {
   "cell_type": "code",
   "execution_count": 31,
   "id": "0817b6f9-01e5-40b6-b321-55ff508f3a5f",
   "metadata": {},
   "outputs": [
    {
     "name": "stdout",
     "output_type": "stream",
     "text": [
      "Water Usage Data (liters):\n",
      " [[ 8533  7937 14837  9939 14744]\n",
      " [ 8224 10021 15389  6134  5025]\n",
      " [14680  5956  6913  7934 18429]\n",
      " [14661 18907  7721 15088  5928]\n",
      " [10627 16003 11265 10446  5469]\n",
      " [15527 13717  6863  6720 10272]\n",
      " [ 5591 11185  7322 16702  5207]\n",
      " [ 9262 19447  8421 17281 10249]\n",
      " [15102 16052 13408 13216 17355]\n",
      " [16218 10103 12939  7282  6740]\n",
      " [11118 17579 10846 18310  8781]\n",
      " [ 7775  7603 19368 12179 18928]]\n"
     ]
    }
   ],
   "source": [
    "##Question 3\n",
    "water_usage = np.random.randint(5000, 20000, size=(12, 5))\n",
    "print(\"Water Usage Data (liters):\\n\", water_usage)"
   ]
  },
  {
   "cell_type": "code",
   "execution_count": 32,
   "id": "73966894-0f0a-4a13-95ff-ae3892e87722",
   "metadata": {},
   "outputs": [
    {
     "name": "stdout",
     "output_type": "stream",
     "text": [
      "\n",
      "Total Water Usage per Field (Yearly): [137318 154510 135292 141231 127127]\n"
     ]
    }
   ],
   "source": [
    "# Step 2: Total water usage for each field over the year\n",
    "total_usage_per_field = np.sum(water_usage, axis=0)\n",
    "print(\"\\nTotal Water Usage per Field (Yearly):\", total_usage_per_field)\n"
   ]
  },
  {
   "cell_type": "code",
   "execution_count": 33,
   "id": "60ce66fd-1cb4-4949-a658-b23e9853da3a",
   "metadata": {},
   "outputs": [
    {
     "name": "stdout",
     "output_type": "stream",
     "text": [
      "\n",
      "Month with Highest Total Water Usage: 9\n"
     ]
    }
   ],
   "source": [
    "# Step 3: Find the month with the highest water usage across all fields\n",
    "monthly_totals = np.sum(water_usage, axis=1)\n",
    "month_highest_usage = np.argmax(monthly_totals) + 1  \n",
    "print(\"\\nMonth with Highest Total Water Usage:\", month_highest_usage)"
   ]
  },
  {
   "cell_type": "code",
   "execution_count": 34,
   "id": "7f6b5f74-ddc4-4301-915c-85ac9db2ff34",
   "metadata": {},
   "outputs": [
    {
     "name": "stdout",
     "output_type": "stream",
     "text": [
      "\n",
      "Average Water Usage in February: 8958.6\n"
     ]
    }
   ],
   "source": [
    "# Step 4: Calculate the average water usage for all fields in a specific month (e.g., February = index 1)\n",
    "february_average = np.mean(water_usage[1])\n",
    "print(\"\\nAverage Water Usage in February:\", february_average)"
   ]
  },
  {
   "cell_type": "code",
   "execution_count": null,
   "id": "33c0f4db-2158-435b-89dd-1e0f59063756",
   "metadata": {},
   "outputs": [],
   "source": []
  }
 ],
 "metadata": {
  "kernelspec": {
   "display_name": "Python 3 (ipykernel)",
   "language": "python",
   "name": "python3"
  },
  "language_info": {
   "codemirror_mode": {
    "name": "ipython",
    "version": 3
   },
   "file_extension": ".py",
   "mimetype": "text/x-python",
   "name": "python",
   "nbconvert_exporter": "python",
   "pygments_lexer": "ipython3",
   "version": "3.11.8"
  }
 },
 "nbformat": 4,
 "nbformat_minor": 5
}
