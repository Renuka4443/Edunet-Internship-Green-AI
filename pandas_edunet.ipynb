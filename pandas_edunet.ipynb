{
 "cells": [
  {
   "cell_type": "markdown",
   "id": "e9d951bc-13a8-44e4-a789-1215260b3214",
   "metadata": {},
   "source": [
    "## **PANDAS**"
   ]
  },
  {
   "cell_type": "code",
   "execution_count": 3,
   "id": "68014254-dc33-4347-826f-75f024d6e0e4",
   "metadata": {},
   "outputs": [
    {
     "name": "stdout",
     "output_type": "stream",
     "text": [
      "0    1\n",
      "1    2\n",
      "2    3\n",
      "3    4\n",
      "4    5\n",
      "5    6\n",
      "dtype: int64\n",
      "\n",
      "\n",
      "PRINT THE SERIES\n",
      "\n",
      "a    1\n",
      "b    2\n",
      "c    3\n",
      "d    4\n",
      "e    5\n",
      "f    6\n",
      "dtype: int64\n"
     ]
    }
   ],
   "source": [
    "import pandas as pd\n",
    "\n",
    "#creating a pandas series from a list\n",
    "data = [1,2,3,4,5,6]\n",
    "series_list = pd.Series(data)\n",
    "print(series_list)\n",
    "\n",
    "#creating a pandas series with a specified index\n",
    "i = ['a','b','c','d','e','f']\n",
    "series_with_index = pd.Series(data,index=i)\n",
    "print(\"\\n\\nPRINT THE SERIES\\n\")\n",
    "print(series_with_index)"
   ]
  },
  {
   "cell_type": "code",
   "execution_count": 12,
   "id": "226920b2-eb80-42c6-85fd-4b12fcb876fb",
   "metadata": {},
   "outputs": [],
   "source": [
    "#create a pandas seres from a dictionary"
   ]
  },
  {
   "cell_type": "code",
   "execution_count": 14,
   "id": "9122d7d0-b0e2-4361-9ccd-f0a8746c5dad",
   "metadata": {},
   "outputs": [
    {
     "name": "stdout",
     "output_type": "stream",
     "text": [
      "one      1\n",
      "Two      2\n",
      "Three    3\n",
      "dtype: int64\n"
     ]
    }
   ],
   "source": [
    "my_dict= {\"one\":1,\"Two\":2,\"Three\":3}\n",
    "series_from_dict = pd.Series(my_dict)\n",
    "print(series_from_dict)"
   ]
  },
  {
   "cell_type": "code",
   "execution_count": 18,
   "id": "ca4538cb-52ef-46f9-bcc3-9ddf1e103d44",
   "metadata": {},
   "outputs": [
    {
     "name": "stdout",
     "output_type": "stream",
     "text": [
      "3\n"
     ]
    },
    {
     "name": "stderr",
     "output_type": "stream",
     "text": [
      "C:\\Users\\anuja\\AppData\\Local\\Temp\\ipykernel_1800\\1523706587.py:3: FutureWarning: Series.__getitem__ treating keys as positions is deprecated. In a future version, integer keys will always be treated as labels (consistent with DataFrame behavior). To access a value by position, use `ser.iloc[pos]`\n",
      "  print(series_with_index[2])\n"
     ]
    }
   ],
   "source": [
    "#Accessing data in a series\n",
    "#Accessing element at index 1\n",
    "print(series_with_index[2])"
   ]
  },
  {
   "cell_type": "code",
   "execution_count": 34,
   "id": "611126bf-85aa-46e0-9f48-3677d39ea810",
   "metadata": {},
   "outputs": [
    {
     "name": "stdout",
     "output_type": "stream",
     "text": [
      "0      1\n",
      "1      2\n",
      "2      3\n",
      "3      4\n",
      "4      5\n",
      "5      6\n",
      "6      7\n",
      "7      8\n",
      "8      9\n",
      "9     10\n",
      "10    11\n",
      "11    12\n",
      "12    13\n",
      "13    14\n",
      "14    15\n",
      "dtype: int64\n"
     ]
    }
   ],
   "source": [
    "\n",
    "data = [1,2,3,4,5,6,7,8,9,10,11,12,13,14,15]\n",
    "ser = pd.Series(data)\n",
    "print(ser)\n"
   ]
  },
  {
   "cell_type": "code",
   "execution_count": 44,
   "id": "1437edd2-9e1a-421b-a2a5-dde29968c016",
   "metadata": {},
   "outputs": [
    {
     "name": "stdout",
     "output_type": "stream",
     "text": [
      "0      1\n",
      "1      2\n",
      "2      3\n",
      "3      4\n",
      "4      5\n",
      "5      6\n",
      "6      7\n",
      "7      8\n",
      "8      9\n",
      "9     10\n",
      "10    11\n",
      "11    12\n",
      "12    13\n",
      "13    14\n",
      "14    15\n",
      "dtype: int64\n",
      "\n",
      "\n",
      "0    1\n",
      "1    2\n",
      "2    3\n",
      "dtype: int64\n",
      "\n",
      "\n",
      "12    13\n",
      "13    14\n",
      "14    15\n",
      "dtype: int64\n",
      "\n",
      "\n",
      "(15,)\n",
      "\n",
      "\n",
      "count    15.000000\n",
      "mean      8.000000\n",
      "std       4.472136\n",
      "min       1.000000\n",
      "25%       4.500000\n",
      "50%       8.000000\n",
      "75%      11.500000\n",
      "max      15.000000\n",
      "dtype: float64\n",
      "\n",
      "\n",
      "[ 1  2  3  4  5  6  7  8  9 10 11 12 13 14 15]\n"
     ]
    }
   ],
   "source": [
    "#create a series\n",
    "data=[1,2,3,4,5,6,7,8,9,10,11,12,13,14,15]\n",
    "series=pd.Series(data)\n",
    "print(series)\n",
    "print(\"\\n\")\n",
    "\n",
    "#return the first n rows\n",
    "first_n_rows=series.head(3)\n",
    "print(first_n_rows)\n",
    "print(\"\\n\")\n",
    "\n",
    "#return the last n rows\n",
    "last_n_rows=series.tail(3)\n",
    "print(last_n_rows)\n",
    "print(\"\\n\")\n",
    "\n",
    "#return dimesions(rows,colums)\n",
    "dimensions=series.shape\n",
    "print(dimensions)\n",
    "print(\"\\n\")\n",
    "\n",
    "#generate descriptive statistics\n",
    "stats=series.describe()\n",
    "print(stats)\n",
    "print(\"\\n\")\n",
    "\n",
    "#return unique values\n",
    "unique_values=series.unique()\n",
    "print(unique_values)"
   ]
  },
  {
   "cell_type": "code",
   "execution_count": 52,
   "id": "4a136b47-f321-47a7-9425-f2b90400c084",
   "metadata": {},
   "outputs": [
    {
     "name": "stdout",
     "output_type": "stream",
     "text": [
      "0     1\n",
      "1     2\n",
      "2     3\n",
      "3     4\n",
      "4     5\n",
      "5     6\n",
      "6     7\n",
      "7     8\n",
      "8     9\n",
      "9    10\n",
      "dtype: int64\n",
      "\n",
      "\n",
      "0     1\n",
      "1     2\n",
      "2     3\n",
      "3     4\n",
      "4     5\n",
      "5     6\n",
      "6     7\n",
      "7     8\n",
      "8     9\n",
      "9    10\n",
      "dtype: int64\n",
      "\n",
      "\n"
     ]
    }
   ],
   "source": [
    "#create a series\n",
    "data1=[1,2,3,4,5,6,7,8,9,10]\n",
    "d1=pd.Series(data1)\n",
    "print(d1)\n",
    "print(\"\\n\")\n",
    "\n",
    "data2=[1,2,3,4,5,6,7,8,9,10]\n",
    "d2=pd.Series(data2)\n",
    "print(d2)\n",
    "print(\"\\n\")"
   ]
  },
  {
   "cell_type": "code",
   "execution_count": 66,
   "id": "106fe93b-0ac4-47ba-b6e8-59404719e17d",
   "metadata": {},
   "outputs": [
    {
     "name": "stdout",
     "output_type": "stream",
     "text": [
      "0     2\n",
      "1     4\n",
      "2     6\n",
      "3     8\n",
      "4    10\n",
      "5    12\n",
      "6    14\n",
      "7    16\n",
      "8    18\n",
      "9    20\n",
      "dtype: int64\n",
      "\n",
      "\n",
      "0      4\n",
      "1     16\n",
      "2     36\n",
      "3     64\n",
      "4    100\n",
      "5    144\n",
      "6    196\n",
      "7    256\n",
      "8    324\n",
      "9    400\n",
      "dtype: int64\n",
      "\n",
      "\n",
      "9    400\n",
      "8    324\n",
      "7    256\n",
      "6    196\n",
      "5    144\n",
      "4    100\n",
      "3     64\n",
      "2     36\n",
      "1     16\n",
      "0      4\n",
      "dtype: int64\n",
      "\n",
      "\n"
     ]
    }
   ],
   "source": [
    "#element wise addition\n",
    "add_series = d1 + d2\n",
    "print(add_series)\n",
    "print(\"\\n\")\n",
    "\n",
    "#apply a function to each element\n",
    "squared = add_series.apply(lambda x: x **2)\n",
    "print(squared)\n",
    "print(\"\\n\")\n",
    "\n",
    "#sorting\n",
    "sort = squared.sort_values(ascending = False)\n",
    "print(sort)\n",
    "print(\"\\n\")\n",
    "\n"
   ]
  },
  {
   "cell_type": "code",
   "execution_count": 70,
   "id": "0cca4ae2-879c-43d6-ae3d-d7658c5d27ba",
   "metadata": {},
   "outputs": [
    {
     "name": "stdout",
     "output_type": "stream",
     "text": [
      "0    False\n",
      "1    False\n",
      "2    False\n",
      "3    False\n",
      "4    False\n",
      "5    False\n",
      "6    False\n",
      "7    False\n",
      "8    False\n",
      "9    False\n",
      "dtype: bool\n"
     ]
    }
   ],
   "source": [
    "print(add_series.isnull())"
   ]
  },
  {
   "cell_type": "code",
   "execution_count": 4,
   "id": "f0a642c9-53f7-4903-9ff3-c1367292f4cb",
   "metadata": {},
   "outputs": [
    {
     "name": "stdout",
     "output_type": "stream",
     "text": [
      "a    10\n",
      "b    20\n",
      "c    30\n",
      "d    40\n",
      "e    50\n",
      "f    60\n",
      "dtype: int64\n",
      "\n",
      "\n",
      "d    40\n",
      "e    50\n",
      "f    60\n",
      "dtype: int64\n",
      "\n",
      "\n",
      "b    20\n",
      "c    30\n",
      "dtype: int64\n"
     ]
    }
   ],
   "source": [
    "Data = {\"a\":10,\"b\":20,\"c\":30,\"d\":40,\"e\":50,\"f\":60}\n",
    "part = pd.Series(Data)\n",
    "print(part)\n",
    "print(\"\\n\")\n",
    "\n",
    "#select element greater than 30\n",
    "greater_30 = part[part > 30]\n",
    "print(greater_30)\n",
    "print(\"\\n\")\n",
    "\n",
    "#multiple\n",
    "mul_con = part[(part>10) & (part<40)]\n",
    "print(mul_con)"
   ]
  },
  {
   "cell_type": "code",
   "execution_count": 5,
   "id": "37c211a9-f323-4f05-9ed7-128be5485068",
   "metadata": {},
   "outputs": [
    {
     "name": "stdout",
     "output_type": "stream",
     "text": [
      "0     apple\n",
      "1    banana\n",
      "2    cherry\n",
      "3      date\n",
      "dtype: object\n",
      "\n",
      "\n",
      "0     True\n",
      "1    False\n",
      "2    False\n",
      "3    False\n",
      "dtype: bool\n"
     ]
    }
   ],
   "source": [
    "string_series = pd.Series(['apple','banana','cherry','date'])\n",
    "print(string_series)\n",
    "print(\"\\n\")\n",
    "\n",
    "string1 = string_series.str.startswith('a')\n",
    "print(string1)"
   ]
  },
  {
   "cell_type": "code",
   "execution_count": 6,
   "id": "697c9f17-2ff5-4004-a977-4e27e97ca5c1",
   "metadata": {},
   "outputs": [
    {
     "name": "stdout",
     "output_type": "stream",
     "text": [
      "Temperature Data for the Week:\n",
      "\n",
      "Monday       36\n",
      "Tuesday      37\n",
      "Wednesday    27\n",
      "Thursday     25\n",
      "Friday       30\n",
      "Saturday     32\n",
      "Sunday       41\n",
      "dtype: int64\n",
      "\n",
      "Temperature on Monday: 36\n",
      "Temperature on Friday: 30\n",
      "\n",
      "Total Temperature for the Week: 228\n",
      "\n",
      "Hottest Day: Sunday with 41 °C\n",
      "Coldest Day: Thursday with 25 °C\n",
      "\n",
      "Average Temperature for the Week: 32.57 °C\n",
      "\n",
      "Days with Temperature Significantly Different from Average:\n",
      " Wednesday    27\n",
      "Thursday     25\n",
      "Sunday       41\n",
      "dtype: int64\n"
     ]
    }
   ],
   "source": [
    "import pandas as pd\n",
    "\n",
    "# 1. Creating a pandas Series from a list with day names as index\n",
    "temp_data = [36, 37, 27, 25, 30, 32, 41]\n",
    "days_of_week = ['Monday', 'Tuesday', 'Wednesday', 'Thursday', 'Friday', 'Saturday', 'Sunday']\n",
    "\n",
    "temp_series = pd.Series(temp_data, index=days_of_week)\n",
    "\n",
    "# 2. Print the Series\n",
    "print(\"Temperature Data for the Week:\\n\")\n",
    "print(temp_series)\n",
    "\n",
    "# 3. Access temperature for specific days\n",
    "print(\"\\nTemperature on Monday:\", temp_series['Monday'])\n",
    "print(\"Temperature on Friday:\", temp_series['Friday'])\n",
    "\n",
    "# 4. Total temperature for the week\n",
    "total_temperature = temp_series.sum()\n",
    "print(\"\\nTotal Temperature for the Week:\", total_temperature)\n",
    "\n",
    "# 5. Identify the day with highest and lowest temperature\n",
    "hottest_day = temp_series.idxmax()\n",
    "coldest_day = temp_series.idxmin()\n",
    "print(\"\\nHottest Day:\", hottest_day, \"with\", temp_series[hottest_day], \"°C\")\n",
    "print(\"Coldest Day:\", coldest_day, \"with\", temp_series[coldest_day], \"°C\")\n",
    "\n",
    "# 6. Calculate average temperature\n",
    "average_temp = temp_series.mean()\n",
    "print(\"\\nAverage Temperature for the Week: {:.2f} °C\".format(average_temp))\n",
    "\n",
    "# 7. Identify days with temperature significantly different from average (e.g., >5°C difference)\n",
    "significant_diff = temp_series[abs(temp_series - average_temp) > 5]\n",
    "print(\"\\nDays with Temperature Significantly Different from Average:\\n\",significant_diff)"
   ]
  },
  {
   "cell_type": "code",
   "execution_count": 7,
   "id": "e0442b21-24aa-423d-b875-19031eb1a97c",
   "metadata": {},
   "outputs": [
    {
     "data": {
      "text/html": [
       "<div>\n",
       "<style scoped>\n",
       "    .dataframe tbody tr th:only-of-type {\n",
       "        vertical-align: middle;\n",
       "    }\n",
       "\n",
       "    .dataframe tbody tr th {\n",
       "        vertical-align: top;\n",
       "    }\n",
       "\n",
       "    .dataframe thead th {\n",
       "        text-align: right;\n",
       "    }\n",
       "</style>\n",
       "<table border=\"1\" class=\"dataframe\">\n",
       "  <thead>\n",
       "    <tr style=\"text-align: right;\">\n",
       "      <th></th>\n",
       "      <th>Name</th>\n",
       "      <th>Age</th>\n",
       "      <th>Salary</th>\n",
       "    </tr>\n",
       "  </thead>\n",
       "  <tbody>\n",
       "    <tr>\n",
       "      <th>0</th>\n",
       "      <td>Raj</td>\n",
       "      <td>28</td>\n",
       "      <td>20000</td>\n",
       "    </tr>\n",
       "    <tr>\n",
       "      <th>1</th>\n",
       "      <td>Simran</td>\n",
       "      <td>24</td>\n",
       "      <td>22000</td>\n",
       "    </tr>\n",
       "    <tr>\n",
       "      <th>2</th>\n",
       "      <td>Sameer</td>\n",
       "      <td>25</td>\n",
       "      <td>18000</td>\n",
       "    </tr>\n",
       "  </tbody>\n",
       "</table>\n",
       "</div>"
      ],
      "text/plain": [
       "     Name  Age  Salary\n",
       "0     Raj   28   20000\n",
       "1  Simran   24   22000\n",
       "2  Sameer   25   18000"
      ]
     },
     "execution_count": 7,
     "metadata": {},
     "output_type": "execute_result"
    }
   ],
   "source": [
    "data={\"Name\":[\"Raj\",\"Simran\",\"Sameer\"],\"Age\":[28,24,25],\"Salary\":[20000,22000,18000]}\n",
    "df=pd.DataFrame(data)\n",
    "df"
   ]
  },
  {
   "cell_type": "code",
   "execution_count": 8,
   "id": "3d3e193d-194c-40cb-9c37-5c85ea460e8c",
   "metadata": {},
   "outputs": [
    {
     "data": {
      "text/html": [
       "<div>\n",
       "<style scoped>\n",
       "    .dataframe tbody tr th:only-of-type {\n",
       "        vertical-align: middle;\n",
       "    }\n",
       "\n",
       "    .dataframe tbody tr th {\n",
       "        vertical-align: top;\n",
       "    }\n",
       "\n",
       "    .dataframe thead th {\n",
       "        text-align: right;\n",
       "    }\n",
       "</style>\n",
       "<table border=\"1\" class=\"dataframe\">\n",
       "  <thead>\n",
       "    <tr style=\"text-align: right;\">\n",
       "      <th></th>\n",
       "      <th>Name</th>\n",
       "      <th>Age</th>\n",
       "      <th>Salary</th>\n",
       "    </tr>\n",
       "  </thead>\n",
       "  <tbody>\n",
       "    <tr>\n",
       "      <th>0</th>\n",
       "      <td>Raj</td>\n",
       "      <td>28</td>\n",
       "      <td>20000</td>\n",
       "    </tr>\n",
       "    <tr>\n",
       "      <th>1</th>\n",
       "      <td>Simran</td>\n",
       "      <td>24</td>\n",
       "      <td>25000</td>\n",
       "    </tr>\n",
       "    <tr>\n",
       "      <th>2</th>\n",
       "      <td>Sameer</td>\n",
       "      <td>22</td>\n",
       "      <td>18000</td>\n",
       "    </tr>\n",
       "  </tbody>\n",
       "</table>\n",
       "</div>"
      ],
      "text/plain": [
       "     Name  Age  Salary\n",
       "0     Raj   28   20000\n",
       "1  Simran   24   25000\n",
       "2  Sameer   22   18000"
      ]
     },
     "execution_count": 8,
     "metadata": {},
     "output_type": "execute_result"
    }
   ],
   "source": [
    "#Dataframe from list\n",
    "data_list=[[\"Raj\",28,20000],[\"Simran\",24,25000],[\"Sameer\",22,18000]]\n",
    "df2=pd.DataFrame(data_list,columns=[\"Name\",\"Age\",\"Salary\"])\n",
    "df2"
   ]
  },
  {
   "cell_type": "code",
   "execution_count": null,
   "id": "9652e47f-a641-4ad7-961e-8a3c605af9ba",
   "metadata": {},
   "outputs": [],
   "source": []
  }
 ],
 "metadata": {
  "kernelspec": {
   "display_name": "Python 3 (ipykernel)",
   "language": "python",
   "name": "python3"
  },
  "language_info": {
   "codemirror_mode": {
    "name": "ipython",
    "version": 3
   },
   "file_extension": ".py",
   "mimetype": "text/x-python",
   "name": "python",
   "nbconvert_exporter": "python",
   "pygments_lexer": "ipython3",
   "version": "3.13.2"
  }
 },
 "nbformat": 4,
 "nbformat_minor": 5
}
